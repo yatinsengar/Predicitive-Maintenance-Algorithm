{
  "cells": [
    {
      "cell_type": "code",
      "execution_count": null,
      "metadata": {
        "id": "aXB7faK0m6aE"
      },
      "outputs": [],
      "source": [
        "import numpy as np\n",
        "import pandas as pd\n",
        "import matplotlib.pyplot as plt\n",
        "import seaborn as sns\n",
        "!pip install scikit-plot\n",
        "from sklearn.datasets import make_classification\n",
        "from sklearn.model_selection import train_test_split\n",
        "from sklearn.ensemble import RandomForestClassifier\n",
        "from sklearn.metrics import f1_score,fbeta_score,matthews_corrcoef, log_loss, confusion_matrix,classification_report,make_scorer,balanced_accuracy_score, plot_confusion_matrix\n",
        "from sklearn.metrics import accuracy_score, roc_curve, auc,recall_score,roc_auc_score, average_precision_score, precision_score,plot_precision_recall_curve,precision_recall_curve\n",
        "from lightgbm import LGBMClassifier\n",
        "from sklearn.metrics import multilabel_confusion_matrix\n",
        "import scikitplot as skplt\n",
        "from sklearn.multioutput import MultiOutputClassifier\n",
        "from sklearn.preprocessing import StandardScaler"
      ]
    },
    {
      "cell_type": "code",
      "execution_count": null,
      "metadata": {
        "colab": {
          "base_uri": "https://localhost:8080/",
          "height": 74,
          "resources": {
            "http://localhost:8080/nbextensions/google.colab/files.js": {
              "data": "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",
              "headers": [
                [
                  "content-type",
                  "application/javascript"
                ]
              ],
              "ok": true,
              "status": 200,
              "status_text": ""
            }
          }
        },
        "id": "p_oue8TBoNMx",
        "outputId": "73c31918-772f-475d-aa8e-a7bbdae77a1a"
      },
      "outputs": [
        {
          "data": {
            "text/html": [
              "\n",
              "     <input type=\"file\" id=\"files-68cd7c8f-7be9-40d0-a315-2b81e8f4deef\" name=\"files[]\" multiple disabled\n",
              "        style=\"border:none\" />\n",
              "     <output id=\"result-68cd7c8f-7be9-40d0-a315-2b81e8f4deef\">\n",
              "      Upload widget is only available when the cell has been executed in the\n",
              "      current browser session. Please rerun this cell to enable.\n",
              "      </output>\n",
              "      <script src=\"/nbextensions/google.colab/files.js\"></script> "
            ],
            "text/plain": [
              "<IPython.core.display.HTML object>"
            ]
          },
          "metadata": {},
          "output_type": "display_data"
        },
        {
          "name": "stdout",
          "output_type": "stream",
          "text": [
            "Saving predictive_maintenance.csv to predictive_maintenance.csv\n"
          ]
        }
      ],
      "source": [
        "from google.colab import files\n",
        "uploaded = files.upload()"
      ]
    },
    {
      "cell_type": "code",
      "execution_count": null,
      "metadata": {
        "id": "sHgITJvmoscb"
      },
      "outputs": [],
      "source": [
        "df=pd.read_csv('predictive_maintenance.csv')"
      ]
    },
    {
      "cell_type": "code",
      "execution_count": null,
      "metadata": {
        "colab": {
          "base_uri": "https://localhost:8080/"
        },
        "id": "cgwSYhR5UAvR",
        "outputId": "77f7e732-57f2-4b9a-c228-04c90b373ade"
      },
      "outputs": [
        {
          "data": {
            "text/plain": [
              "No Failure                  9652\n",
              "Heat Dissipation Failure     112\n",
              "Power Failure                 95\n",
              "Overstrain Failure            78\n",
              "Tool Wear Failure             45\n",
              "Random Failures               18\n",
              "Name: Failure Type, dtype: int64"
            ]
          },
          "execution_count": 3,
          "metadata": {},
          "output_type": "execute_result"
        }
      ],
      "source": [
        "df['Failure Type'].value_counts()"
      ]
    },
    {
      "cell_type": "code",
      "execution_count": null,
      "metadata": {
        "id": "UBtqnuU8NaZR"
      },
      "outputs": [],
      "source": [
        "from sklearn.preprocessing import LabelBinarizer\n",
        "labelbinarizer = LabelBinarizer()\n",
        "encoded_results_1 = labelbinarizer.fit_transform(df[\"Failure Type\"])"
      ]
    },
    {
      "cell_type": "code",
      "execution_count": null,
      "metadata": {
        "colab": {
          "base_uri": "https://localhost:8080/"
        },
        "id": "2VaU9631PWZT",
        "outputId": "a6f217f4-6eca-4665-a139-a42a9b6ec254"
      },
      "outputs": [
        {
          "data": {
            "text/plain": [
              "array([[0, 1, 0, 0, 0, 0],\n",
              "       [0, 1, 0, 0, 0, 0],\n",
              "       [0, 1, 0, 0, 0, 0],\n",
              "       ...,\n",
              "       [0, 1, 0, 0, 0, 0],\n",
              "       [0, 1, 0, 0, 0, 0],\n",
              "       [0, 1, 0, 0, 0, 0]])"
            ]
          },
          "execution_count": 5,
          "metadata": {},
          "output_type": "execute_result"
        }
      ],
      "source": [
        "encoded_results_1"
      ]
    },
    {
      "cell_type": "code",
      "execution_count": null,
      "metadata": {
        "id": "e94SnxykQAqi"
      },
      "outputs": [],
      "source": [
        "df_encoded_1 = pd.DataFrame(encoded_results_1,columns=labelbinarizer.classes_)"
      ]
    },
    {
      "cell_type": "code",
      "execution_count": null,
      "metadata": {
        "id": "dSL2GUG9NyCQ"
      },
      "outputs": [],
      "source": [
        "encoded_results_2 = labelbinarizer.fit_transform(df[\"Type\"])"
      ]
    },
    {
      "cell_type": "code",
      "execution_count": null,
      "metadata": {
        "id": "-Q4ZAuASNyFJ"
      },
      "outputs": [],
      "source": [
        "df_encoded_2 = pd.DataFrame(encoded_results_2,columns=labelbinarizer.classes_)"
      ]
    },
    {
      "cell_type": "code",
      "execution_count": null,
      "metadata": {
        "id": "V9g3TdpYQRZF"
      },
      "outputs": [],
      "source": [
        "df1 = pd.concat([df,df_encoded_1, df_encoded_2], axis=1)"
      ]
    },
    {
      "cell_type": "code",
      "execution_count": null,
      "metadata": {
        "colab": {
          "base_uri": "https://localhost:8080/",
          "height": 485
        },
        "id": "XWAld1_YRApq",
        "outputId": "580a7798-14d1-4724-9e03-29e5b1fd0328"
      },
      "outputs": [
        {
          "data": {
            "text/html": [
              "\n",
              "  <div id=\"df-3c1cb9e7-ed8e-4e19-92a5-393790db47ea\">\n",
              "    <div class=\"colab-df-container\">\n",
              "      <div>\n",
              "<style scoped>\n",
              "    .dataframe tbody tr th:only-of-type {\n",
              "        vertical-align: middle;\n",
              "    }\n",
              "\n",
              "    .dataframe tbody tr th {\n",
              "        vertical-align: top;\n",
              "    }\n",
              "\n",
              "    .dataframe thead th {\n",
              "        text-align: right;\n",
              "    }\n",
              "</style>\n",
              "<table border=\"1\" class=\"dataframe\">\n",
              "  <thead>\n",
              "    <tr style=\"text-align: right;\">\n",
              "      <th></th>\n",
              "      <th>Type</th>\n",
              "      <th>Air temperature [K]</th>\n",
              "      <th>Process temperature [K]</th>\n",
              "      <th>Rotational speed [rpm]</th>\n",
              "      <th>Torque [Nm]</th>\n",
              "      <th>Tool wear [min]</th>\n",
              "      <th>Target</th>\n",
              "      <th>Failure Type</th>\n",
              "      <th>Heat Dissipation Failure</th>\n",
              "      <th>No Failure</th>\n",
              "      <th>Overstrain Failure</th>\n",
              "      <th>Power Failure</th>\n",
              "      <th>Random Failures</th>\n",
              "      <th>Tool Wear Failure</th>\n",
              "      <th>H</th>\n",
              "      <th>L</th>\n",
              "      <th>M</th>\n",
              "    </tr>\n",
              "  </thead>\n",
              "  <tbody>\n",
              "    <tr>\n",
              "      <th>0</th>\n",
              "      <td>M</td>\n",
              "      <td>298.1</td>\n",
              "      <td>308.6</td>\n",
              "      <td>1551</td>\n",
              "      <td>42.8</td>\n",
              "      <td>0</td>\n",
              "      <td>0</td>\n",
              "      <td>No Failure</td>\n",
              "      <td>0</td>\n",
              "      <td>1</td>\n",
              "      <td>0</td>\n",
              "      <td>0</td>\n",
              "      <td>0</td>\n",
              "      <td>0</td>\n",
              "      <td>0</td>\n",
              "      <td>0</td>\n",
              "      <td>1</td>\n",
              "    </tr>\n",
              "    <tr>\n",
              "      <th>1</th>\n",
              "      <td>L</td>\n",
              "      <td>298.2</td>\n",
              "      <td>308.7</td>\n",
              "      <td>1408</td>\n",
              "      <td>46.3</td>\n",
              "      <td>3</td>\n",
              "      <td>0</td>\n",
              "      <td>No Failure</td>\n",
              "      <td>0</td>\n",
              "      <td>1</td>\n",
              "      <td>0</td>\n",
              "      <td>0</td>\n",
              "      <td>0</td>\n",
              "      <td>0</td>\n",
              "      <td>0</td>\n",
              "      <td>1</td>\n",
              "      <td>0</td>\n",
              "    </tr>\n",
              "    <tr>\n",
              "      <th>2</th>\n",
              "      <td>L</td>\n",
              "      <td>298.1</td>\n",
              "      <td>308.5</td>\n",
              "      <td>1498</td>\n",
              "      <td>49.4</td>\n",
              "      <td>5</td>\n",
              "      <td>0</td>\n",
              "      <td>No Failure</td>\n",
              "      <td>0</td>\n",
              "      <td>1</td>\n",
              "      <td>0</td>\n",
              "      <td>0</td>\n",
              "      <td>0</td>\n",
              "      <td>0</td>\n",
              "      <td>0</td>\n",
              "      <td>1</td>\n",
              "      <td>0</td>\n",
              "    </tr>\n",
              "    <tr>\n",
              "      <th>3</th>\n",
              "      <td>L</td>\n",
              "      <td>298.2</td>\n",
              "      <td>308.6</td>\n",
              "      <td>1433</td>\n",
              "      <td>39.5</td>\n",
              "      <td>7</td>\n",
              "      <td>0</td>\n",
              "      <td>No Failure</td>\n",
              "      <td>0</td>\n",
              "      <td>1</td>\n",
              "      <td>0</td>\n",
              "      <td>0</td>\n",
              "      <td>0</td>\n",
              "      <td>0</td>\n",
              "      <td>0</td>\n",
              "      <td>1</td>\n",
              "      <td>0</td>\n",
              "    </tr>\n",
              "    <tr>\n",
              "      <th>4</th>\n",
              "      <td>L</td>\n",
              "      <td>298.2</td>\n",
              "      <td>308.7</td>\n",
              "      <td>1408</td>\n",
              "      <td>40.0</td>\n",
              "      <td>9</td>\n",
              "      <td>0</td>\n",
              "      <td>No Failure</td>\n",
              "      <td>0</td>\n",
              "      <td>1</td>\n",
              "      <td>0</td>\n",
              "      <td>0</td>\n",
              "      <td>0</td>\n",
              "      <td>0</td>\n",
              "      <td>0</td>\n",
              "      <td>1</td>\n",
              "      <td>0</td>\n",
              "    </tr>\n",
              "    <tr>\n",
              "      <th>...</th>\n",
              "      <td>...</td>\n",
              "      <td>...</td>\n",
              "      <td>...</td>\n",
              "      <td>...</td>\n",
              "      <td>...</td>\n",
              "      <td>...</td>\n",
              "      <td>...</td>\n",
              "      <td>...</td>\n",
              "      <td>...</td>\n",
              "      <td>...</td>\n",
              "      <td>...</td>\n",
              "      <td>...</td>\n",
              "      <td>...</td>\n",
              "      <td>...</td>\n",
              "      <td>...</td>\n",
              "      <td>...</td>\n",
              "      <td>...</td>\n",
              "    </tr>\n",
              "    <tr>\n",
              "      <th>9995</th>\n",
              "      <td>M</td>\n",
              "      <td>298.8</td>\n",
              "      <td>308.4</td>\n",
              "      <td>1604</td>\n",
              "      <td>29.5</td>\n",
              "      <td>14</td>\n",
              "      <td>0</td>\n",
              "      <td>No Failure</td>\n",
              "      <td>0</td>\n",
              "      <td>1</td>\n",
              "      <td>0</td>\n",
              "      <td>0</td>\n",
              "      <td>0</td>\n",
              "      <td>0</td>\n",
              "      <td>0</td>\n",
              "      <td>0</td>\n",
              "      <td>1</td>\n",
              "    </tr>\n",
              "    <tr>\n",
              "      <th>9996</th>\n",
              "      <td>H</td>\n",
              "      <td>298.9</td>\n",
              "      <td>308.4</td>\n",
              "      <td>1632</td>\n",
              "      <td>31.8</td>\n",
              "      <td>17</td>\n",
              "      <td>0</td>\n",
              "      <td>No Failure</td>\n",
              "      <td>0</td>\n",
              "      <td>1</td>\n",
              "      <td>0</td>\n",
              "      <td>0</td>\n",
              "      <td>0</td>\n",
              "      <td>0</td>\n",
              "      <td>1</td>\n",
              "      <td>0</td>\n",
              "      <td>0</td>\n",
              "    </tr>\n",
              "    <tr>\n",
              "      <th>9997</th>\n",
              "      <td>M</td>\n",
              "      <td>299.0</td>\n",
              "      <td>308.6</td>\n",
              "      <td>1645</td>\n",
              "      <td>33.4</td>\n",
              "      <td>22</td>\n",
              "      <td>0</td>\n",
              "      <td>No Failure</td>\n",
              "      <td>0</td>\n",
              "      <td>1</td>\n",
              "      <td>0</td>\n",
              "      <td>0</td>\n",
              "      <td>0</td>\n",
              "      <td>0</td>\n",
              "      <td>0</td>\n",
              "      <td>0</td>\n",
              "      <td>1</td>\n",
              "    </tr>\n",
              "    <tr>\n",
              "      <th>9998</th>\n",
              "      <td>H</td>\n",
              "      <td>299.0</td>\n",
              "      <td>308.7</td>\n",
              "      <td>1408</td>\n",
              "      <td>48.5</td>\n",
              "      <td>25</td>\n",
              "      <td>0</td>\n",
              "      <td>No Failure</td>\n",
              "      <td>0</td>\n",
              "      <td>1</td>\n",
              "      <td>0</td>\n",
              "      <td>0</td>\n",
              "      <td>0</td>\n",
              "      <td>0</td>\n",
              "      <td>1</td>\n",
              "      <td>0</td>\n",
              "      <td>0</td>\n",
              "    </tr>\n",
              "    <tr>\n",
              "      <th>9999</th>\n",
              "      <td>M</td>\n",
              "      <td>299.0</td>\n",
              "      <td>308.7</td>\n",
              "      <td>1500</td>\n",
              "      <td>40.2</td>\n",
              "      <td>30</td>\n",
              "      <td>0</td>\n",
              "      <td>No Failure</td>\n",
              "      <td>0</td>\n",
              "      <td>1</td>\n",
              "      <td>0</td>\n",
              "      <td>0</td>\n",
              "      <td>0</td>\n",
              "      <td>0</td>\n",
              "      <td>0</td>\n",
              "      <td>0</td>\n",
              "      <td>1</td>\n",
              "    </tr>\n",
              "  </tbody>\n",
              "</table>\n",
              "<p>10000 rows × 17 columns</p>\n",
              "</div>\n",
              "      <button class=\"colab-df-convert\" onclick=\"convertToInteractive('df-3c1cb9e7-ed8e-4e19-92a5-393790db47ea')\"\n",
              "              title=\"Convert this dataframe to an interactive table.\"\n",
              "              style=\"display:none;\">\n",
              "        \n",
              "  <svg xmlns=\"http://www.w3.org/2000/svg\" height=\"24px\"viewBox=\"0 0 24 24\"\n",
              "       width=\"24px\">\n",
              "    <path d=\"M0 0h24v24H0V0z\" fill=\"none\"/>\n",
              "    <path d=\"M18.56 5.44l.94 2.06.94-2.06 2.06-.94-2.06-.94-.94-2.06-.94 2.06-2.06.94zm-11 1L8.5 8.5l.94-2.06 2.06-.94-2.06-.94L8.5 2.5l-.94 2.06-2.06.94zm10 10l.94 2.06.94-2.06 2.06-.94-2.06-.94-.94-2.06-.94 2.06-2.06.94z\"/><path d=\"M17.41 7.96l-1.37-1.37c-.4-.4-.92-.59-1.43-.59-.52 0-1.04.2-1.43.59L10.3 9.45l-7.72 7.72c-.78.78-.78 2.05 0 2.83L4 21.41c.39.39.9.59 1.41.59.51 0 1.02-.2 1.41-.59l7.78-7.78 2.81-2.81c.8-.78.8-2.07 0-2.86zM5.41 20L4 18.59l7.72-7.72 1.47 1.35L5.41 20z\"/>\n",
              "  </svg>\n",
              "      </button>\n",
              "      \n",
              "  <style>\n",
              "    .colab-df-container {\n",
              "      display:flex;\n",
              "      flex-wrap:wrap;\n",
              "      gap: 12px;\n",
              "    }\n",
              "\n",
              "    .colab-df-convert {\n",
              "      background-color: #E8F0FE;\n",
              "      border: none;\n",
              "      border-radius: 50%;\n",
              "      cursor: pointer;\n",
              "      display: none;\n",
              "      fill: #1967D2;\n",
              "      height: 32px;\n",
              "      padding: 0 0 0 0;\n",
              "      width: 32px;\n",
              "    }\n",
              "\n",
              "    .colab-df-convert:hover {\n",
              "      background-color: #E2EBFA;\n",
              "      box-shadow: 0px 1px 2px rgba(60, 64, 67, 0.3), 0px 1px 3px 1px rgba(60, 64, 67, 0.15);\n",
              "      fill: #174EA6;\n",
              "    }\n",
              "\n",
              "    [theme=dark] .colab-df-convert {\n",
              "      background-color: #3B4455;\n",
              "      fill: #D2E3FC;\n",
              "    }\n",
              "\n",
              "    [theme=dark] .colab-df-convert:hover {\n",
              "      background-color: #434B5C;\n",
              "      box-shadow: 0px 1px 3px 1px rgba(0, 0, 0, 0.15);\n",
              "      filter: drop-shadow(0px 1px 2px rgba(0, 0, 0, 0.3));\n",
              "      fill: #FFFFFF;\n",
              "    }\n",
              "  </style>\n",
              "\n",
              "      <script>\n",
              "        const buttonEl =\n",
              "          document.querySelector('#df-3c1cb9e7-ed8e-4e19-92a5-393790db47ea button.colab-df-convert');\n",
              "        buttonEl.style.display =\n",
              "          google.colab.kernel.accessAllowed ? 'block' : 'none';\n",
              "\n",
              "        async function convertToInteractive(key) {\n",
              "          const element = document.querySelector('#df-3c1cb9e7-ed8e-4e19-92a5-393790db47ea');\n",
              "          const dataTable =\n",
              "            await google.colab.kernel.invokeFunction('convertToInteractive',\n",
              "                                                     [key], {});\n",
              "          if (!dataTable) return;\n",
              "\n",
              "          const docLinkHtml = 'Like what you see? Visit the ' +\n",
              "            '<a target=\"_blank\" href=https://colab.research.google.com/notebooks/data_table.ipynb>data table notebook</a>'\n",
              "            + ' to learn more about interactive tables.';\n",
              "          element.innerHTML = '';\n",
              "          dataTable['output_type'] = 'display_data';\n",
              "          await google.colab.output.renderOutput(dataTable, element);\n",
              "          const docLink = document.createElement('div');\n",
              "          docLink.innerHTML = docLinkHtml;\n",
              "          element.appendChild(docLink);\n",
              "        }\n",
              "      </script>\n",
              "    </div>\n",
              "  </div>\n",
              "  "
            ],
            "text/plain": [
              "     Type  Air temperature [K]  Process temperature [K]  \\\n",
              "0       M                298.1                    308.6   \n",
              "1       L                298.2                    308.7   \n",
              "2       L                298.1                    308.5   \n",
              "3       L                298.2                    308.6   \n",
              "4       L                298.2                    308.7   \n",
              "...   ...                  ...                      ...   \n",
              "9995    M                298.8                    308.4   \n",
              "9996    H                298.9                    308.4   \n",
              "9997    M                299.0                    308.6   \n",
              "9998    H                299.0                    308.7   \n",
              "9999    M                299.0                    308.7   \n",
              "\n",
              "      Rotational speed [rpm]  Torque [Nm]  Tool wear [min]  Target  \\\n",
              "0                       1551         42.8                0       0   \n",
              "1                       1408         46.3                3       0   \n",
              "2                       1498         49.4                5       0   \n",
              "3                       1433         39.5                7       0   \n",
              "4                       1408         40.0                9       0   \n",
              "...                      ...          ...              ...     ...   \n",
              "9995                    1604         29.5               14       0   \n",
              "9996                    1632         31.8               17       0   \n",
              "9997                    1645         33.4               22       0   \n",
              "9998                    1408         48.5               25       0   \n",
              "9999                    1500         40.2               30       0   \n",
              "\n",
              "     Failure Type  Heat Dissipation Failure  No Failure  Overstrain Failure  \\\n",
              "0      No Failure                         0           1                   0   \n",
              "1      No Failure                         0           1                   0   \n",
              "2      No Failure                         0           1                   0   \n",
              "3      No Failure                         0           1                   0   \n",
              "4      No Failure                         0           1                   0   \n",
              "...           ...                       ...         ...                 ...   \n",
              "9995   No Failure                         0           1                   0   \n",
              "9996   No Failure                         0           1                   0   \n",
              "9997   No Failure                         0           1                   0   \n",
              "9998   No Failure                         0           1                   0   \n",
              "9999   No Failure                         0           1                   0   \n",
              "\n",
              "      Power Failure  Random Failures  Tool Wear Failure  H  L  M  \n",
              "0                 0                0                  0  0  0  1  \n",
              "1                 0                0                  0  0  1  0  \n",
              "2                 0                0                  0  0  1  0  \n",
              "3                 0                0                  0  0  1  0  \n",
              "4                 0                0                  0  0  1  0  \n",
              "...             ...              ...                ... .. .. ..  \n",
              "9995              0                0                  0  0  0  1  \n",
              "9996              0                0                  0  1  0  0  \n",
              "9997              0                0                  0  0  0  1  \n",
              "9998              0                0                  0  1  0  0  \n",
              "9999              0                0                  0  0  0  1  \n",
              "\n",
              "[10000 rows x 17 columns]"
            ]
          },
          "execution_count": 10,
          "metadata": {},
          "output_type": "execute_result"
        }
      ],
      "source": [
        "df1"
      ]
    },
    {
      "cell_type": "code",
      "execution_count": null,
      "metadata": {
        "id": "IvFOvkdyTgjl"
      },
      "outputs": [],
      "source": [
        "df1.drop(['Product ID',\"UDI\",\"Type\",\"Failure Type\"], axis=1, inplace=True)"
      ]
    },
    {
      "cell_type": "code",
      "execution_count": null,
      "metadata": {
        "id": "jOrCigRLTbK9"
      },
      "outputs": [],
      "source": [
        "df1.drop([\"Type\",\"Failure Type\"], axis=1, inplace=True)"
      ]
    },
    {
      "cell_type": "code",
      "execution_count": null,
      "metadata": {
        "colab": {
          "base_uri": "https://localhost:8080/",
          "height": 706
        },
        "id": "YIUxDlySXkZi",
        "outputId": "142952c2-b367-404f-8d22-f7de47e71bff"
      },
      "outputs": [
        {
          "data": {
            "image/png": "[encoded data removed]",
            "text/plain": [
              "<Figure size 1080x720 with 2 Axes>"
            ]
          },
          "metadata": {},
          "output_type": "display_data"
        }
      ],
      "source": [
        "plt.figure(figsize=(15,10))\n",
        "sns.heatmap(df1.corr(),annot = True,cmap = \"RdYlBu\")\n",
        "plt.draw()"
      ]
    },
    {
      "cell_type": "code",
      "execution_count": null,
      "metadata": {
        "colab": {
          "base_uri": "https://localhost:8080/"
        },
        "id": "ibZBHbPNpHRZ",
        "outputId": "ca7065fd-609c-48fa-a4f2-9152d9b27cb0"
      },
      "outputs": [
        {
          "data": {
            "text/plain": [
              "False"
            ]
          },
          "execution_count": 14,
          "metadata": {},
          "output_type": "execute_result"
        }
      ],
      "source": [
        "df1.isnull().values.any()"
      ]
    },
    {
      "cell_type": "code",
      "execution_count": null,
      "metadata": {
        "colab": {
          "base_uri": "https://localhost:8080/",
          "height": 485
        },
        "id": "9uxXGE_Rqet2",
        "outputId": "2eac98e2-244f-4410-d16d-a1eb2aca679e"
      },
      "outputs": [
        {
          "data": {
            "text/html": [
              "\n",
              "  <div id=\"df-b3f79154-62dd-4532-a783-5aaf2037f79c\">\n",
              "    <div class=\"colab-df-container\">\n",
              "      <div>\n",
              "<style scoped>\n",
              "    .dataframe tbody tr th:only-of-type {\n",
              "        vertical-align: middle;\n",
              "    }\n",
              "\n",
              "    .dataframe tbody tr th {\n",
              "        vertical-align: top;\n",
              "    }\n",
              "\n",
              "    .dataframe thead th {\n",
              "        text-align: right;\n",
              "    }\n",
              "</style>\n",
              "<table border=\"1\" class=\"dataframe\">\n",
              "  <thead>\n",
              "    <tr style=\"text-align: right;\">\n",
              "      <th></th>\n",
              "      <th>Air temperature [K]</th>\n",
              "      <th>Process temperature [K]</th>\n",
              "      <th>Rotational speed [rpm]</th>\n",
              "      <th>Torque [Nm]</th>\n",
              "      <th>Tool wear [min]</th>\n",
              "      <th>Target</th>\n",
              "      <th>Heat Dissipation Failure</th>\n",
              "      <th>No Failure</th>\n",
              "      <th>Overstrain Failure</th>\n",
              "      <th>Power Failure</th>\n",
              "      <th>Random Failures</th>\n",
              "      <th>Tool Wear Failure</th>\n",
              "      <th>H</th>\n",
              "      <th>L</th>\n",
              "      <th>M</th>\n",
              "    </tr>\n",
              "  </thead>\n",
              "  <tbody>\n",
              "    <tr>\n",
              "      <th>0</th>\n",
              "      <td>298.1</td>\n",
              "      <td>308.6</td>\n",
              "      <td>1551</td>\n",
              "      <td>42.8</td>\n",
              "      <td>0</td>\n",
              "      <td>0</td>\n",
              "      <td>0</td>\n",
              "      <td>1</td>\n",
              "      <td>0</td>\n",
              "      <td>0</td>\n",
              "      <td>0</td>\n",
              "      <td>0</td>\n",
              "      <td>0</td>\n",
              "      <td>0</td>\n",
              "      <td>1</td>\n",
              "    </tr>\n",
              "    <tr>\n",
              "      <th>1</th>\n",
              "      <td>298.2</td>\n",
              "      <td>308.7</td>\n",
              "      <td>1408</td>\n",
              "      <td>46.3</td>\n",
              "      <td>3</td>\n",
              "      <td>0</td>\n",
              "      <td>0</td>\n",
              "      <td>1</td>\n",
              "      <td>0</td>\n",
              "      <td>0</td>\n",
              "      <td>0</td>\n",
              "      <td>0</td>\n",
              "      <td>0</td>\n",
              "      <td>1</td>\n",
              "      <td>0</td>\n",
              "    </tr>\n",
              "    <tr>\n",
              "      <th>2</th>\n",
              "      <td>298.1</td>\n",
              "      <td>308.5</td>\n",
              "      <td>1498</td>\n",
              "      <td>49.4</td>\n",
              "      <td>5</td>\n",
              "      <td>0</td>\n",
              "      <td>0</td>\n",
              "      <td>1</td>\n",
              "      <td>0</td>\n",
              "      <td>0</td>\n",
              "      <td>0</td>\n",
              "      <td>0</td>\n",
              "      <td>0</td>\n",
              "      <td>1</td>\n",
              "      <td>0</td>\n",
              "    </tr>\n",
              "    <tr>\n",
              "      <th>3</th>\n",
              "      <td>298.2</td>\n",
              "      <td>308.6</td>\n",
              "      <td>1433</td>\n",
              "      <td>39.5</td>\n",
              "      <td>7</td>\n",
              "      <td>0</td>\n",
              "      <td>0</td>\n",
              "      <td>1</td>\n",
              "      <td>0</td>\n",
              "      <td>0</td>\n",
              "      <td>0</td>\n",
              "      <td>0</td>\n",
              "      <td>0</td>\n",
              "      <td>1</td>\n",
              "      <td>0</td>\n",
              "    </tr>\n",
              "    <tr>\n",
              "      <th>4</th>\n",
              "      <td>298.2</td>\n",
              "      <td>308.7</td>\n",
              "      <td>1408</td>\n",
              "      <td>40.0</td>\n",
              "      <td>9</td>\n",
              "      <td>0</td>\n",
              "      <td>0</td>\n",
              "      <td>1</td>\n",
              "      <td>0</td>\n",
              "      <td>0</td>\n",
              "      <td>0</td>\n",
              "      <td>0</td>\n",
              "      <td>0</td>\n",
              "      <td>1</td>\n",
              "      <td>0</td>\n",
              "    </tr>\n",
              "    <tr>\n",
              "      <th>...</th>\n",
              "      <td>...</td>\n",
              "      <td>...</td>\n",
              "      <td>...</td>\n",
              "      <td>...</td>\n",
              "      <td>...</td>\n",
              "      <td>...</td>\n",
              "      <td>...</td>\n",
              "      <td>...</td>\n",
              "      <td>...</td>\n",
              "      <td>...</td>\n",
              "      <td>...</td>\n",
              "      <td>...</td>\n",
              "      <td>...</td>\n",
              "      <td>...</td>\n",
              "      <td>...</td>\n",
              "    </tr>\n",
              "    <tr>\n",
              "      <th>9995</th>\n",
              "      <td>298.8</td>\n",
              "      <td>308.4</td>\n",
              "      <td>1604</td>\n",
              "      <td>29.5</td>\n",
              "      <td>14</td>\n",
              "      <td>0</td>\n",
              "      <td>0</td>\n",
              "      <td>1</td>\n",
              "      <td>0</td>\n",
              "      <td>0</td>\n",
              "      <td>0</td>\n",
              "      <td>0</td>\n",
              "      <td>0</td>\n",
              "      <td>0</td>\n",
              "      <td>1</td>\n",
              "    </tr>\n",
              "    <tr>\n",
              "      <th>9996</th>\n",
              "      <td>298.9</td>\n",
              "      <td>308.4</td>\n",
              "      <td>1632</td>\n",
              "      <td>31.8</td>\n",
              "      <td>17</td>\n",
              "      <td>0</td>\n",
              "      <td>0</td>\n",
              "      <td>1</td>\n",
              "      <td>0</td>\n",
              "      <td>0</td>\n",
              "      <td>0</td>\n",
              "      <td>0</td>\n",
              "      <td>1</td>\n",
              "      <td>0</td>\n",
              "      <td>0</td>\n",
              "    </tr>\n",
              "    <tr>\n",
              "      <th>9997</th>\n",
              "      <td>299.0</td>\n",
              "      <td>308.6</td>\n",
              "      <td>1645</td>\n",
              "      <td>33.4</td>\n",
              "      <td>22</td>\n",
              "      <td>0</td>\n",
              "      <td>0</td>\n",
              "      <td>1</td>\n",
              "      <td>0</td>\n",
              "      <td>0</td>\n",
              "      <td>0</td>\n",
              "      <td>0</td>\n",
              "      <td>0</td>\n",
              "      <td>0</td>\n",
              "      <td>1</td>\n",
              "    </tr>\n",
              "    <tr>\n",
              "      <th>9998</th>\n",
              "      <td>299.0</td>\n",
              "      <td>308.7</td>\n",
              "      <td>1408</td>\n",
              "      <td>48.5</td>\n",
              "      <td>25</td>\n",
              "      <td>0</td>\n",
              "      <td>0</td>\n",
              "      <td>1</td>\n",
              "      <td>0</td>\n",
              "      <td>0</td>\n",
              "      <td>0</td>\n",
              "      <td>0</td>\n",
              "      <td>1</td>\n",
              "      <td>0</td>\n",
              "      <td>0</td>\n",
              "    </tr>\n",
              "    <tr>\n",
              "      <th>9999</th>\n",
              "      <td>299.0</td>\n",
              "      <td>308.7</td>\n",
              "      <td>1500</td>\n",
              "      <td>40.2</td>\n",
              "      <td>30</td>\n",
              "      <td>0</td>\n",
              "      <td>0</td>\n",
              "      <td>1</td>\n",
              "      <td>0</td>\n",
              "      <td>0</td>\n",
              "      <td>0</td>\n",
              "      <td>0</td>\n",
              "      <td>0</td>\n",
              "      <td>0</td>\n",
              "      <td>1</td>\n",
              "    </tr>\n",
              "  </tbody>\n",
              "</table>\n",
              "<p>10000 rows × 15 columns</p>\n",
              "</div>\n",
              "      <button class=\"colab-df-convert\" onclick=\"convertToInteractive('df-b3f79154-62dd-4532-a783-5aaf2037f79c')\"\n",
              "              title=\"Convert this dataframe to an interactive table.\"\n",
              "              style=\"display:none;\">\n",
              "        \n",
              "  <svg xmlns=\"http://www.w3.org/2000/svg\" height=\"24px\"viewBox=\"0 0 24 24\"\n",
              "       width=\"24px\">\n",
              "    <path d=\"M0 0h24v24H0V0z\" fill=\"none\"/>\n",
              "    <path d=\"M18.56 5.44l.94 2.06.94-2.06 2.06-.94-2.06-.94-.94-2.06-.94 2.06-2.06.94zm-11 1L8.5 8.5l.94-2.06 2.06-.94-2.06-.94L8.5 2.5l-.94 2.06-2.06.94zm10 10l.94 2.06.94-2.06 2.06-.94-2.06-.94-.94-2.06-.94 2.06-2.06.94z\"/><path d=\"M17.41 7.96l-1.37-1.37c-.4-.4-.92-.59-1.43-.59-.52 0-1.04.2-1.43.59L10.3 9.45l-7.72 7.72c-.78.78-.78 2.05 0 2.83L4 21.41c.39.39.9.59 1.41.59.51 0 1.02-.2 1.41-.59l7.78-7.78 2.81-2.81c.8-.78.8-2.07 0-2.86zM5.41 20L4 18.59l7.72-7.72 1.47 1.35L5.41 20z\"/>\n",
              "  </svg>\n",
              "      </button>\n",
              "      \n",
              "  <style>\n",
              "    .colab-df-container {\n",
              "      display:flex;\n",
              "      flex-wrap:wrap;\n",
              "      gap: 12px;\n",
              "    }\n",
              "\n",
              "    .colab-df-convert {\n",
              "      background-color: #E8F0FE;\n",
              "      border: none;\n",
              "      border-radius: 50%;\n",
              "      cursor: pointer;\n",
              "      display: none;\n",
              "      fill: #1967D2;\n",
              "      height: 32px;\n",
              "      padding: 0 0 0 0;\n",
              "      width: 32px;\n",
              "    }\n",
              "\n",
              "    .colab-df-convert:hover {\n",
              "      background-color: #E2EBFA;\n",
              "      box-shadow: 0px 1px 2px rgba(60, 64, 67, 0.3), 0px 1px 3px 1px rgba(60, 64, 67, 0.15);\n",
              "      fill: #174EA6;\n",
              "    }\n",
              "\n",
              "    [theme=dark] .colab-df-convert {\n",
              "      background-color: #3B4455;\n",
              "      fill: #D2E3FC;\n",
              "    }\n",
              "\n",
              "    [theme=dark] .colab-df-convert:hover {\n",
              "      background-color: #434B5C;\n",
              "      box-shadow: 0px 1px 3px 1px rgba(0, 0, 0, 0.15);\n",
              "      filter: drop-shadow(0px 1px 2px rgba(0, 0, 0, 0.3));\n",
              "      fill: #FFFFFF;\n",
              "    }\n",
              "  </style>\n",
              "\n",
              "      <script>\n",
              "        const buttonEl =\n",
              "          document.querySelector('#df-b3f79154-62dd-4532-a783-5aaf2037f79c button.colab-df-convert');\n",
              "        buttonEl.style.display =\n",
              "          google.colab.kernel.accessAllowed ? 'block' : 'none';\n",
              "\n",
              "        async function convertToInteractive(key) {\n",
              "          const element = document.querySelector('#df-b3f79154-62dd-4532-a783-5aaf2037f79c');\n",
              "          const dataTable =\n",
              "            await google.colab.kernel.invokeFunction('convertToInteractive',\n",
              "                                                     [key], {});\n",
              "          if (!dataTable) return;\n",
              "\n",
              "          const docLinkHtml = 'Like what you see? Visit the ' +\n",
              "            '<a target=\"_blank\" href=https://colab.research.google.com/notebooks/data_table.ipynb>data table notebook</a>'\n",
              "            + ' to learn more about interactive tables.';\n",
              "          element.innerHTML = '';\n",
              "          dataTable['output_type'] = 'display_data';\n",
              "          await google.colab.output.renderOutput(dataTable, element);\n",
              "          const docLink = document.createElement('div');\n",
              "          docLink.innerHTML = docLinkHtml;\n",
              "          element.appendChild(docLink);\n",
              "        }\n",
              "      </script>\n",
              "    </div>\n",
              "  </div>\n",
              "  "
            ],
            "text/plain": [
              "      Air temperature [K]  Process temperature [K]  Rotational speed [rpm]  \\\n",
              "0                   298.1                    308.6                    1551   \n",
              "1                   298.2                    308.7                    1408   \n",
              "2                   298.1                    308.5                    1498   \n",
              "3                   298.2                    308.6                    1433   \n",
              "4                   298.2                    308.7                    1408   \n",
              "...                   ...                      ...                     ...   \n",
              "9995                298.8                    308.4                    1604   \n",
              "9996                298.9                    308.4                    1632   \n",
              "9997                299.0                    308.6                    1645   \n",
              "9998                299.0                    308.7                    1408   \n",
              "9999                299.0                    308.7                    1500   \n",
              "\n",
              "      Torque [Nm]  Tool wear [min]  Target  Heat Dissipation Failure  \\\n",
              "0            42.8                0       0                         0   \n",
              "1            46.3                3       0                         0   \n",
              "2            49.4                5       0                         0   \n",
              "3            39.5                7       0                         0   \n",
              "4            40.0                9       0                         0   \n",
              "...           ...              ...     ...                       ...   \n",
              "9995         29.5               14       0                         0   \n",
              "9996         31.8               17       0                         0   \n",
              "9997         33.4               22       0                         0   \n",
              "9998         48.5               25       0                         0   \n",
              "9999         40.2               30       0                         0   \n",
              "\n",
              "      No Failure  Overstrain Failure  Power Failure  Random Failures  \\\n",
              "0              1                   0              0                0   \n",
              "1              1                   0              0                0   \n",
              "2              1                   0              0                0   \n",
              "3              1                   0              0                0   \n",
              "4              1                   0              0                0   \n",
              "...          ...                 ...            ...              ...   \n",
              "9995           1                   0              0                0   \n",
              "9996           1                   0              0                0   \n",
              "9997           1                   0              0                0   \n",
              "9998           1                   0              0                0   \n",
              "9999           1                   0              0                0   \n",
              "\n",
              "      Tool Wear Failure  H  L  M  \n",
              "0                     0  0  0  1  \n",
              "1                     0  0  1  0  \n",
              "2                     0  0  1  0  \n",
              "3                     0  0  1  0  \n",
              "4                     0  0  1  0  \n",
              "...                 ... .. .. ..  \n",
              "9995                  0  0  0  1  \n",
              "9996                  0  1  0  0  \n",
              "9997                  0  0  0  1  \n",
              "9998                  0  1  0  0  \n",
              "9999                  0  0  0  1  \n",
              "\n",
              "[10000 rows x 15 columns]"
            ]
          },
          "execution_count": 15,
          "metadata": {},
          "output_type": "execute_result"
        }
      ],
      "source": [
        "df1"
      ]
    },
    {
      "cell_type": "code",
      "execution_count": null,
      "metadata": {
        "id": "7ZFhhatYCJpT"
      },
      "outputs": [],
      "source": [
        "DF = df1[['Air temperature [K]',\n",
        " 'Process temperature [K]',\n",
        " 'Rotational speed [rpm]',\n",
        " 'Torque [Nm]',\n",
        " 'Tool wear [min]','H','L','M','Target','No Failure','Heat Dissipation Failure','Overstrain Failure','Power Failure','Tool Wear Failure',\n",
        " 'Random Failures']]"
      ]
    },
    {
      "cell_type": "code",
      "execution_count": null,
      "metadata": {
        "colab": {
          "base_uri": "https://localhost:8080/",
          "height": 485
        },
        "id": "rGpgpRK8ea6a",
        "outputId": "bba69a7f-7edd-48cf-e586-73dd396c86b7"
      },
      "outputs": [
        {
          "data": {
            "text/html": [
              "\n",
              "  <div id=\"df-0b8e8018-005b-4f39-992a-ae1b4a65f4c1\">\n",
              "    <div class=\"colab-df-container\">\n",
              "      <div>\n",
              "<style scoped>\n",
              "    .dataframe tbody tr th:only-of-type {\n",
              "        vertical-align: middle;\n",
              "    }\n",
              "\n",
              "    .dataframe tbody tr th {\n",
              "        vertical-align: top;\n",
              "    }\n",
              "\n",
              "    .dataframe thead th {\n",
              "        text-align: right;\n",
              "    }\n",
              "</style>\n",
              "<table border=\"1\" class=\"dataframe\">\n",
              "  <thead>\n",
              "    <tr style=\"text-align: right;\">\n",
              "      <th></th>\n",
              "      <th>Air temperature [K]</th>\n",
              "      <th>Process temperature [K]</th>\n",
              "      <th>Rotational speed [rpm]</th>\n",
              "      <th>Torque [Nm]</th>\n",
              "      <th>Tool wear [min]</th>\n",
              "      <th>H</th>\n",
              "      <th>L</th>\n",
              "      <th>M</th>\n",
              "      <th>Target</th>\n",
              "      <th>No Failure</th>\n",
              "      <th>Heat Dissipation Failure</th>\n",
              "      <th>Overstrain Failure</th>\n",
              "      <th>Power Failure</th>\n",
              "      <th>Tool Wear Failure</th>\n",
              "      <th>Random Failures</th>\n",
              "    </tr>\n",
              "  </thead>\n",
              "  <tbody>\n",
              "    <tr>\n",
              "      <th>0</th>\n",
              "      <td>298.1</td>\n",
              "      <td>308.6</td>\n",
              "      <td>1551</td>\n",
              "      <td>42.8</td>\n",
              "      <td>0</td>\n",
              "      <td>0</td>\n",
              "      <td>0</td>\n",
              "      <td>1</td>\n",
              "      <td>0</td>\n",
              "      <td>1</td>\n",
              "      <td>0</td>\n",
              "      <td>0</td>\n",
              "      <td>0</td>\n",
              "      <td>0</td>\n",
              "      <td>0</td>\n",
              "    </tr>\n",
              "    <tr>\n",
              "      <th>1</th>\n",
              "      <td>298.2</td>\n",
              "      <td>308.7</td>\n",
              "      <td>1408</td>\n",
              "      <td>46.3</td>\n",
              "      <td>3</td>\n",
              "      <td>0</td>\n",
              "      <td>1</td>\n",
              "      <td>0</td>\n",
              "      <td>0</td>\n",
              "      <td>1</td>\n",
              "      <td>0</td>\n",
              "      <td>0</td>\n",
              "      <td>0</td>\n",
              "      <td>0</td>\n",
              "      <td>0</td>\n",
              "    </tr>\n",
              "    <tr>\n",
              "      <th>2</th>\n",
              "      <td>298.1</td>\n",
              "      <td>308.5</td>\n",
              "      <td>1498</td>\n",
              "      <td>49.4</td>\n",
              "      <td>5</td>\n",
              "      <td>0</td>\n",
              "      <td>1</td>\n",
              "      <td>0</td>\n",
              "      <td>0</td>\n",
              "      <td>1</td>\n",
              "      <td>0</td>\n",
              "      <td>0</td>\n",
              "      <td>0</td>\n",
              "      <td>0</td>\n",
              "      <td>0</td>\n",
              "    </tr>\n",
              "    <tr>\n",
              "      <th>3</th>\n",
              "      <td>298.2</td>\n",
              "      <td>308.6</td>\n",
              "      <td>1433</td>\n",
              "      <td>39.5</td>\n",
              "      <td>7</td>\n",
              "      <td>0</td>\n",
              "      <td>1</td>\n",
              "      <td>0</td>\n",
              "      <td>0</td>\n",
              "      <td>1</td>\n",
              "      <td>0</td>\n",
              "      <td>0</td>\n",
              "      <td>0</td>\n",
              "      <td>0</td>\n",
              "      <td>0</td>\n",
              "    </tr>\n",
              "    <tr>\n",
              "      <th>4</th>\n",
              "      <td>298.2</td>\n",
              "      <td>308.7</td>\n",
              "      <td>1408</td>\n",
              "      <td>40.0</td>\n",
              "      <td>9</td>\n",
              "      <td>0</td>\n",
              "      <td>1</td>\n",
              "      <td>0</td>\n",
              "      <td>0</td>\n",
              "      <td>1</td>\n",
              "      <td>0</td>\n",
              "      <td>0</td>\n",
              "      <td>0</td>\n",
              "      <td>0</td>\n",
              "      <td>0</td>\n",
              "    </tr>\n",
              "    <tr>\n",
              "      <th>...</th>\n",
              "      <td>...</td>\n",
              "      <td>...</td>\n",
              "      <td>...</td>\n",
              "      <td>...</td>\n",
              "      <td>...</td>\n",
              "      <td>...</td>\n",
              "      <td>...</td>\n",
              "      <td>...</td>\n",
              "      <td>...</td>\n",
              "      <td>...</td>\n",
              "      <td>...</td>\n",
              "      <td>...</td>\n",
              "      <td>...</td>\n",
              "      <td>...</td>\n",
              "      <td>...</td>\n",
              "    </tr>\n",
              "    <tr>\n",
              "      <th>9995</th>\n",
              "      <td>298.8</td>\n",
              "      <td>308.4</td>\n",
              "      <td>1604</td>\n",
              "      <td>29.5</td>\n",
              "      <td>14</td>\n",
              "      <td>0</td>\n",
              "      <td>0</td>\n",
              "      <td>1</td>\n",
              "      <td>0</td>\n",
              "      <td>1</td>\n",
              "      <td>0</td>\n",
              "      <td>0</td>\n",
              "      <td>0</td>\n",
              "      <td>0</td>\n",
              "      <td>0</td>\n",
              "    </tr>\n",
              "    <tr>\n",
              "      <th>9996</th>\n",
              "      <td>298.9</td>\n",
              "      <td>308.4</td>\n",
              "      <td>1632</td>\n",
              "      <td>31.8</td>\n",
              "      <td>17</td>\n",
              "      <td>1</td>\n",
              "      <td>0</td>\n",
              "      <td>0</td>\n",
              "      <td>0</td>\n",
              "      <td>1</td>\n",
              "      <td>0</td>\n",
              "      <td>0</td>\n",
              "      <td>0</td>\n",
              "      <td>0</td>\n",
              "      <td>0</td>\n",
              "    </tr>\n",
              "    <tr>\n",
              "      <th>9997</th>\n",
              "      <td>299.0</td>\n",
              "      <td>308.6</td>\n",
              "      <td>1645</td>\n",
              "      <td>33.4</td>\n",
              "      <td>22</td>\n",
              "      <td>0</td>\n",
              "      <td>0</td>\n",
              "      <td>1</td>\n",
              "      <td>0</td>\n",
              "      <td>1</td>\n",
              "      <td>0</td>\n",
              "      <td>0</td>\n",
              "      <td>0</td>\n",
              "      <td>0</td>\n",
              "      <td>0</td>\n",
              "    </tr>\n",
              "    <tr>\n",
              "      <th>9998</th>\n",
              "      <td>299.0</td>\n",
              "      <td>308.7</td>\n",
              "      <td>1408</td>\n",
              "      <td>48.5</td>\n",
              "      <td>25</td>\n",
              "      <td>1</td>\n",
              "      <td>0</td>\n",
              "      <td>0</td>\n",
              "      <td>0</td>\n",
              "      <td>1</td>\n",
              "      <td>0</td>\n",
              "      <td>0</td>\n",
              "      <td>0</td>\n",
              "      <td>0</td>\n",
              "      <td>0</td>\n",
              "    </tr>\n",
              "    <tr>\n",
              "      <th>9999</th>\n",
              "      <td>299.0</td>\n",
              "      <td>308.7</td>\n",
              "      <td>1500</td>\n",
              "      <td>40.2</td>\n",
              "      <td>30</td>\n",
              "      <td>0</td>\n",
              "      <td>0</td>\n",
              "      <td>1</td>\n",
              "      <td>0</td>\n",
              "      <td>1</td>\n",
              "      <td>0</td>\n",
              "      <td>0</td>\n",
              "      <td>0</td>\n",
              "      <td>0</td>\n",
              "      <td>0</td>\n",
              "    </tr>\n",
              "  </tbody>\n",
              "</table>\n",
              "<p>10000 rows × 15 columns</p>\n",
              "</div>\n",
              "      <button class=\"colab-df-convert\" onclick=\"convertToInteractive('df-0b8e8018-005b-4f39-992a-ae1b4a65f4c1')\"\n",
              "              title=\"Convert this dataframe to an interactive table.\"\n",
              "              style=\"display:none;\">\n",
              "        \n",
              "  <svg xmlns=\"http://www.w3.org/2000/svg\" height=\"24px\"viewBox=\"0 0 24 24\"\n",
              "       width=\"24px\">\n",
              "    <path d=\"M0 0h24v24H0V0z\" fill=\"none\"/>\n",
              "    <path d=\"M18.56 5.44l.94 2.06.94-2.06 2.06-.94-2.06-.94-.94-2.06-.94 2.06-2.06.94zm-11 1L8.5 8.5l.94-2.06 2.06-.94-2.06-.94L8.5 2.5l-.94 2.06-2.06.94zm10 10l.94 2.06.94-2.06 2.06-.94-2.06-.94-.94-2.06-.94 2.06-2.06.94z\"/><path d=\"M17.41 7.96l-1.37-1.37c-.4-.4-.92-.59-1.43-.59-.52 0-1.04.2-1.43.59L10.3 9.45l-7.72 7.72c-.78.78-.78 2.05 0 2.83L4 21.41c.39.39.9.59 1.41.59.51 0 1.02-.2 1.41-.59l7.78-7.78 2.81-2.81c.8-.78.8-2.07 0-2.86zM5.41 20L4 18.59l7.72-7.72 1.47 1.35L5.41 20z\"/>\n",
              "  </svg>\n",
              "      </button>\n",
              "      \n",
              "  <style>\n",
              "    .colab-df-container {\n",
              "      display:flex;\n",
              "      flex-wrap:wrap;\n",
              "      gap: 12px;\n",
              "    }\n",
              "\n",
              "    .colab-df-convert {\n",
              "      background-color: #E8F0FE;\n",
              "      border: none;\n",
              "      border-radius: 50%;\n",
              "      cursor: pointer;\n",
              "      display: none;\n",
              "      fill: #1967D2;\n",
              "      height: 32px;\n",
              "      padding: 0 0 0 0;\n",
              "      width: 32px;\n",
              "    }\n",
              "\n",
              "    .colab-df-convert:hover {\n",
              "      background-color: #E2EBFA;\n",
              "      box-shadow: 0px 1px 2px rgba(60, 64, 67, 0.3), 0px 1px 3px 1px rgba(60, 64, 67, 0.15);\n",
              "      fill: #174EA6;\n",
              "    }\n",
              "\n",
              "    [theme=dark] .colab-df-convert {\n",
              "      background-color: #3B4455;\n",
              "      fill: #D2E3FC;\n",
              "    }\n",
              "\n",
              "    [theme=dark] .colab-df-convert:hover {\n",
              "      background-color: #434B5C;\n",
              "      box-shadow: 0px 1px 3px 1px rgba(0, 0, 0, 0.15);\n",
              "      filter: drop-shadow(0px 1px 2px rgba(0, 0, 0, 0.3));\n",
              "      fill: #FFFFFF;\n",
              "    }\n",
              "  </style>\n",
              "\n",
              "      <script>\n",
              "        const buttonEl =\n",
              "          document.querySelector('#df-0b8e8018-005b-4f39-992a-ae1b4a65f4c1 button.colab-df-convert');\n",
              "        buttonEl.style.display =\n",
              "          google.colab.kernel.accessAllowed ? 'block' : 'none';\n",
              "\n",
              "        async function convertToInteractive(key) {\n",
              "          const element = document.querySelector('#df-0b8e8018-005b-4f39-992a-ae1b4a65f4c1');\n",
              "          const dataTable =\n",
              "            await google.colab.kernel.invokeFunction('convertToInteractive',\n",
              "                                                     [key], {});\n",
              "          if (!dataTable) return;\n",
              "\n",
              "          const docLinkHtml = 'Like what you see? Visit the ' +\n",
              "            '<a target=\"_blank\" href=https://colab.research.google.com/notebooks/data_table.ipynb>data table notebook</a>'\n",
              "            + ' to learn more about interactive tables.';\n",
              "          element.innerHTML = '';\n",
              "          dataTable['output_type'] = 'display_data';\n",
              "          await google.colab.output.renderOutput(dataTable, element);\n",
              "          const docLink = document.createElement('div');\n",
              "          docLink.innerHTML = docLinkHtml;\n",
              "          element.appendChild(docLink);\n",
              "        }\n",
              "      </script>\n",
              "    </div>\n",
              "  </div>\n",
              "  "
            ],
            "text/plain": [
              "      Air temperature [K]  Process temperature [K]  Rotational speed [rpm]  \\\n",
              "0                   298.1                    308.6                    1551   \n",
              "1                   298.2                    308.7                    1408   \n",
              "2                   298.1                    308.5                    1498   \n",
              "3                   298.2                    308.6                    1433   \n",
              "4                   298.2                    308.7                    1408   \n",
              "...                   ...                      ...                     ...   \n",
              "9995                298.8                    308.4                    1604   \n",
              "9996                298.9                    308.4                    1632   \n",
              "9997                299.0                    308.6                    1645   \n",
              "9998                299.0                    308.7                    1408   \n",
              "9999                299.0                    308.7                    1500   \n",
              "\n",
              "      Torque [Nm]  Tool wear [min]  H  L  M  Target  No Failure  \\\n",
              "0            42.8                0  0  0  1       0           1   \n",
              "1            46.3                3  0  1  0       0           1   \n",
              "2            49.4                5  0  1  0       0           1   \n",
              "3            39.5                7  0  1  0       0           1   \n",
              "4            40.0                9  0  1  0       0           1   \n",
              "...           ...              ... .. .. ..     ...         ...   \n",
              "9995         29.5               14  0  0  1       0           1   \n",
              "9996         31.8               17  1  0  0       0           1   \n",
              "9997         33.4               22  0  0  1       0           1   \n",
              "9998         48.5               25  1  0  0       0           1   \n",
              "9999         40.2               30  0  0  1       0           1   \n",
              "\n",
              "      Heat Dissipation Failure  Overstrain Failure  Power Failure  \\\n",
              "0                            0                   0              0   \n",
              "1                            0                   0              0   \n",
              "2                            0                   0              0   \n",
              "3                            0                   0              0   \n",
              "4                            0                   0              0   \n",
              "...                        ...                 ...            ...   \n",
              "9995                         0                   0              0   \n",
              "9996                         0                   0              0   \n",
              "9997                         0                   0              0   \n",
              "9998                         0                   0              0   \n",
              "9999                         0                   0              0   \n",
              "\n",
              "      Tool Wear Failure  Random Failures  \n",
              "0                     0                0  \n",
              "1                     0                0  \n",
              "2                     0                0  \n",
              "3                     0                0  \n",
              "4                     0                0  \n",
              "...                 ...              ...  \n",
              "9995                  0                0  \n",
              "9996                  0                0  \n",
              "9997                  0                0  \n",
              "9998                  0                0  \n",
              "9999                  0                0  \n",
              "\n",
              "[10000 rows x 15 columns]"
            ]
          },
          "execution_count": 17,
          "metadata": {},
          "output_type": "execute_result"
        }
      ],
      "source": [
        "DF"
      ]
    },
    {
      "cell_type": "code",
      "execution_count": null,
      "metadata": {
        "id": "e-igLoGKcxFr"
      },
      "outputs": [],
      "source": [
        "DF.columns=DF.columns.astype(\"str\")"
      ]
    },
    {
      "cell_type": "code",
      "execution_count": null,
      "metadata": {
        "id": "2J2317lhcxIY"
      },
      "outputs": [],
      "source": [
        "col_name=DF.columns.to_list()"
      ]
    },
    {
      "cell_type": "code",
      "execution_count": null,
      "metadata": {
        "colab": {
          "base_uri": "https://localhost:8080/"
        },
        "id": "ZsFMeg9-cxLO",
        "outputId": "b4b0bcb3-960b-4715-8cd7-d1c37e6e249a"
      },
      "outputs": [
        {
          "data": {
            "text/plain": [
              "['Air temperature [K]',\n",
              " 'Process temperature [K]',\n",
              " 'Rotational speed [rpm]',\n",
              " 'Torque [Nm]',\n",
              " 'Tool wear [min]',\n",
              " 'H',\n",
              " 'L',\n",
              " 'M',\n",
              " 'Target',\n",
              " 'No Failure',\n",
              " 'Heat Dissipation Failure',\n",
              " 'Overstrain Failure',\n",
              " 'Power Failure',\n",
              " 'Tool Wear Failure',\n",
              " 'Random Failures']"
            ]
          },
          "execution_count": 20,
          "metadata": {},
          "output_type": "execute_result"
        }
      ],
      "source": [
        "col_name"
      ]
    },
    {
      "cell_type": "code",
      "execution_count": null,
      "metadata": {
        "id": "VyVsKkicn-LZ"
      },
      "outputs": [],
      "source": [
        "DF = DF.reset_index(drop=True)"
      ]
    },
    {
      "cell_type": "code",
      "execution_count": null,
      "metadata": {
        "colab": {
          "base_uri": "https://localhost:8080/",
          "height": 485
        },
        "id": "IPCfeHjAZPta",
        "outputId": "5e1abc6c-1ca7-4e98-e3b4-02bb275792a8"
      },
      "outputs": [
        {
          "data": {
            "text/html": [
              "\n",
              "  <div id=\"df-92e8da55-3563-41b0-9938-76da2362b48d\">\n",
              "    <div class=\"colab-df-container\">\n",
              "      <div>\n",
              "<style scoped>\n",
              "    .dataframe tbody tr th:only-of-type {\n",
              "        vertical-align: middle;\n",
              "    }\n",
              "\n",
              "    .dataframe tbody tr th {\n",
              "        vertical-align: top;\n",
              "    }\n",
              "\n",
              "    .dataframe thead th {\n",
              "        text-align: right;\n",
              "    }\n",
              "</style>\n",
              "<table border=\"1\" class=\"dataframe\">\n",
              "  <thead>\n",
              "    <tr style=\"text-align: right;\">\n",
              "      <th></th>\n",
              "      <th>Air temperature [K]</th>\n",
              "      <th>Process temperature [K]</th>\n",
              "      <th>Rotational speed [rpm]</th>\n",
              "      <th>Torque [Nm]</th>\n",
              "      <th>Tool wear [min]</th>\n",
              "      <th>H</th>\n",
              "      <th>L</th>\n",
              "      <th>M</th>\n",
              "      <th>Target</th>\n",
              "      <th>No Failure</th>\n",
              "      <th>Heat Dissipation Failure</th>\n",
              "      <th>Overstrain Failure</th>\n",
              "      <th>Power Failure</th>\n",
              "      <th>Tool Wear Failure</th>\n",
              "      <th>Random Failures</th>\n",
              "    </tr>\n",
              "  </thead>\n",
              "  <tbody>\n",
              "    <tr>\n",
              "      <th>0</th>\n",
              "      <td>298.1</td>\n",
              "      <td>308.6</td>\n",
              "      <td>1551</td>\n",
              "      <td>42.8</td>\n",
              "      <td>0</td>\n",
              "      <td>0</td>\n",
              "      <td>0</td>\n",
              "      <td>1</td>\n",
              "      <td>0</td>\n",
              "      <td>1</td>\n",
              "      <td>0</td>\n",
              "      <td>0</td>\n",
              "      <td>0</td>\n",
              "      <td>0</td>\n",
              "      <td>0</td>\n",
              "    </tr>\n",
              "    <tr>\n",
              "      <th>1</th>\n",
              "      <td>298.2</td>\n",
              "      <td>308.7</td>\n",
              "      <td>1408</td>\n",
              "      <td>46.3</td>\n",
              "      <td>3</td>\n",
              "      <td>0</td>\n",
              "      <td>1</td>\n",
              "      <td>0</td>\n",
              "      <td>0</td>\n",
              "      <td>1</td>\n",
              "      <td>0</td>\n",
              "      <td>0</td>\n",
              "      <td>0</td>\n",
              "      <td>0</td>\n",
              "      <td>0</td>\n",
              "    </tr>\n",
              "    <tr>\n",
              "      <th>2</th>\n",
              "      <td>298.1</td>\n",
              "      <td>308.5</td>\n",
              "      <td>1498</td>\n",
              "      <td>49.4</td>\n",
              "      <td>5</td>\n",
              "      <td>0</td>\n",
              "      <td>1</td>\n",
              "      <td>0</td>\n",
              "      <td>0</td>\n",
              "      <td>1</td>\n",
              "      <td>0</td>\n",
              "      <td>0</td>\n",
              "      <td>0</td>\n",
              "      <td>0</td>\n",
              "      <td>0</td>\n",
              "    </tr>\n",
              "    <tr>\n",
              "      <th>3</th>\n",
              "      <td>298.2</td>\n",
              "      <td>308.6</td>\n",
              "      <td>1433</td>\n",
              "      <td>39.5</td>\n",
              "      <td>7</td>\n",
              "      <td>0</td>\n",
              "      <td>1</td>\n",
              "      <td>0</td>\n",
              "      <td>0</td>\n",
              "      <td>1</td>\n",
              "      <td>0</td>\n",
              "      <td>0</td>\n",
              "      <td>0</td>\n",
              "      <td>0</td>\n",
              "      <td>0</td>\n",
              "    </tr>\n",
              "    <tr>\n",
              "      <th>4</th>\n",
              "      <td>298.2</td>\n",
              "      <td>308.7</td>\n",
              "      <td>1408</td>\n",
              "      <td>40.0</td>\n",
              "      <td>9</td>\n",
              "      <td>0</td>\n",
              "      <td>1</td>\n",
              "      <td>0</td>\n",
              "      <td>0</td>\n",
              "      <td>1</td>\n",
              "      <td>0</td>\n",
              "      <td>0</td>\n",
              "      <td>0</td>\n",
              "      <td>0</td>\n",
              "      <td>0</td>\n",
              "    </tr>\n",
              "    <tr>\n",
              "      <th>...</th>\n",
              "      <td>...</td>\n",
              "      <td>...</td>\n",
              "      <td>...</td>\n",
              "      <td>...</td>\n",
              "      <td>...</td>\n",
              "      <td>...</td>\n",
              "      <td>...</td>\n",
              "      <td>...</td>\n",
              "      <td>...</td>\n",
              "      <td>...</td>\n",
              "      <td>...</td>\n",
              "      <td>...</td>\n",
              "      <td>...</td>\n",
              "      <td>...</td>\n",
              "      <td>...</td>\n",
              "    </tr>\n",
              "    <tr>\n",
              "      <th>9995</th>\n",
              "      <td>298.8</td>\n",
              "      <td>308.4</td>\n",
              "      <td>1604</td>\n",
              "      <td>29.5</td>\n",
              "      <td>14</td>\n",
              "      <td>0</td>\n",
              "      <td>0</td>\n",
              "      <td>1</td>\n",
              "      <td>0</td>\n",
              "      <td>1</td>\n",
              "      <td>0</td>\n",
              "      <td>0</td>\n",
              "      <td>0</td>\n",
              "      <td>0</td>\n",
              "      <td>0</td>\n",
              "    </tr>\n",
              "    <tr>\n",
              "      <th>9996</th>\n",
              "      <td>298.9</td>\n",
              "      <td>308.4</td>\n",
              "      <td>1632</td>\n",
              "      <td>31.8</td>\n",
              "      <td>17</td>\n",
              "      <td>1</td>\n",
              "      <td>0</td>\n",
              "      <td>0</td>\n",
              "      <td>0</td>\n",
              "      <td>1</td>\n",
              "      <td>0</td>\n",
              "      <td>0</td>\n",
              "      <td>0</td>\n",
              "      <td>0</td>\n",
              "      <td>0</td>\n",
              "    </tr>\n",
              "    <tr>\n",
              "      <th>9997</th>\n",
              "      <td>299.0</td>\n",
              "      <td>308.6</td>\n",
              "      <td>1645</td>\n",
              "      <td>33.4</td>\n",
              "      <td>22</td>\n",
              "      <td>0</td>\n",
              "      <td>0</td>\n",
              "      <td>1</td>\n",
              "      <td>0</td>\n",
              "      <td>1</td>\n",
              "      <td>0</td>\n",
              "      <td>0</td>\n",
              "      <td>0</td>\n",
              "      <td>0</td>\n",
              "      <td>0</td>\n",
              "    </tr>\n",
              "    <tr>\n",
              "      <th>9998</th>\n",
              "      <td>299.0</td>\n",
              "      <td>308.7</td>\n",
              "      <td>1408</td>\n",
              "      <td>48.5</td>\n",
              "      <td>25</td>\n",
              "      <td>1</td>\n",
              "      <td>0</td>\n",
              "      <td>0</td>\n",
              "      <td>0</td>\n",
              "      <td>1</td>\n",
              "      <td>0</td>\n",
              "      <td>0</td>\n",
              "      <td>0</td>\n",
              "      <td>0</td>\n",
              "      <td>0</td>\n",
              "    </tr>\n",
              "    <tr>\n",
              "      <th>9999</th>\n",
              "      <td>299.0</td>\n",
              "      <td>308.7</td>\n",
              "      <td>1500</td>\n",
              "      <td>40.2</td>\n",
              "      <td>30</td>\n",
              "      <td>0</td>\n",
              "      <td>0</td>\n",
              "      <td>1</td>\n",
              "      <td>0</td>\n",
              "      <td>1</td>\n",
              "      <td>0</td>\n",
              "      <td>0</td>\n",
              "      <td>0</td>\n",
              "      <td>0</td>\n",
              "      <td>0</td>\n",
              "    </tr>\n",
              "  </tbody>\n",
              "</table>\n",
              "<p>10000 rows × 15 columns</p>\n",
              "</div>\n",
              "      <button class=\"colab-df-convert\" onclick=\"convertToInteractive('df-92e8da55-3563-41b0-9938-76da2362b48d')\"\n",
              "              title=\"Convert this dataframe to an interactive table.\"\n",
              "              style=\"display:none;\">\n",
              "        \n",
              "  <svg xmlns=\"http://www.w3.org/2000/svg\" height=\"24px\"viewBox=\"0 0 24 24\"\n",
              "       width=\"24px\">\n",
              "    <path d=\"M0 0h24v24H0V0z\" fill=\"none\"/>\n",
              "    <path d=\"M18.56 5.44l.94 2.06.94-2.06 2.06-.94-2.06-.94-.94-2.06-.94 2.06-2.06.94zm-11 1L8.5 8.5l.94-2.06 2.06-.94-2.06-.94L8.5 2.5l-.94 2.06-2.06.94zm10 10l.94 2.06.94-2.06 2.06-.94-2.06-.94-.94-2.06-.94 2.06-2.06.94z\"/><path d=\"M17.41 7.96l-1.37-1.37c-.4-.4-.92-.59-1.43-.59-.52 0-1.04.2-1.43.59L10.3 9.45l-7.72 7.72c-.78.78-.78 2.05 0 2.83L4 21.41c.39.39.9.59 1.41.59.51 0 1.02-.2 1.41-.59l7.78-7.78 2.81-2.81c.8-.78.8-2.07 0-2.86zM5.41 20L4 18.59l7.72-7.72 1.47 1.35L5.41 20z\"/>\n",
              "  </svg>\n",
              "      </button>\n",
              "      \n",
              "  <style>\n",
              "    .colab-df-container {\n",
              "      display:flex;\n",
              "      flex-wrap:wrap;\n",
              "      gap: 12px;\n",
              "    }\n",
              "\n",
              "    .colab-df-convert {\n",
              "      background-color: #E8F0FE;\n",
              "      border: none;\n",
              "      border-radius: 50%;\n",
              "      cursor: pointer;\n",
              "      display: none;\n",
              "      fill: #1967D2;\n",
              "      height: 32px;\n",
              "      padding: 0 0 0 0;\n",
              "      width: 32px;\n",
              "    }\n",
              "\n",
              "    .colab-df-convert:hover {\n",
              "      background-color: #E2EBFA;\n",
              "      box-shadow: 0px 1px 2px rgba(60, 64, 67, 0.3), 0px 1px 3px 1px rgba(60, 64, 67, 0.15);\n",
              "      fill: #174EA6;\n",
              "    }\n",
              "\n",
              "    [theme=dark] .colab-df-convert {\n",
              "      background-color: #3B4455;\n",
              "      fill: #D2E3FC;\n",
              "    }\n",
              "\n",
              "    [theme=dark] .colab-df-convert:hover {\n",
              "      background-color: #434B5C;\n",
              "      box-shadow: 0px 1px 3px 1px rgba(0, 0, 0, 0.15);\n",
              "      filter: drop-shadow(0px 1px 2px rgba(0, 0, 0, 0.3));\n",
              "      fill: #FFFFFF;\n",
              "    }\n",
              "  </style>\n",
              "\n",
              "      <script>\n",
              "        const buttonEl =\n",
              "          document.querySelector('#df-92e8da55-3563-41b0-9938-76da2362b48d button.colab-df-convert');\n",
              "        buttonEl.style.display =\n",
              "          google.colab.kernel.accessAllowed ? 'block' : 'none';\n",
              "\n",
              "        async function convertToInteractive(key) {\n",
              "          const element = document.querySelector('#df-92e8da55-3563-41b0-9938-76da2362b48d');\n",
              "          const dataTable =\n",
              "            await google.colab.kernel.invokeFunction('convertToInteractive',\n",
              "                                                     [key], {});\n",
              "          if (!dataTable) return;\n",
              "\n",
              "          const docLinkHtml = 'Like what you see? Visit the ' +\n",
              "            '<a target=\"_blank\" href=https://colab.research.google.com/notebooks/data_table.ipynb>data table notebook</a>'\n",
              "            + ' to learn more about interactive tables.';\n",
              "          element.innerHTML = '';\n",
              "          dataTable['output_type'] = 'display_data';\n",
              "          await google.colab.output.renderOutput(dataTable, element);\n",
              "          const docLink = document.createElement('div');\n",
              "          docLink.innerHTML = docLinkHtml;\n",
              "          element.appendChild(docLink);\n",
              "        }\n",
              "      </script>\n",
              "    </div>\n",
              "  </div>\n",
              "  "
            ],
            "text/plain": [
              "      Air temperature [K]  Process temperature [K]  Rotational speed [rpm]  \\\n",
              "0                   298.1                    308.6                    1551   \n",
              "1                   298.2                    308.7                    1408   \n",
              "2                   298.1                    308.5                    1498   \n",
              "3                   298.2                    308.6                    1433   \n",
              "4                   298.2                    308.7                    1408   \n",
              "...                   ...                      ...                     ...   \n",
              "9995                298.8                    308.4                    1604   \n",
              "9996                298.9                    308.4                    1632   \n",
              "9997                299.0                    308.6                    1645   \n",
              "9998                299.0                    308.7                    1408   \n",
              "9999                299.0                    308.7                    1500   \n",
              "\n",
              "      Torque [Nm]  Tool wear [min]  H  L  M  Target  No Failure  \\\n",
              "0            42.8                0  0  0  1       0           1   \n",
              "1            46.3                3  0  1  0       0           1   \n",
              "2            49.4                5  0  1  0       0           1   \n",
              "3            39.5                7  0  1  0       0           1   \n",
              "4            40.0                9  0  1  0       0           1   \n",
              "...           ...              ... .. .. ..     ...         ...   \n",
              "9995         29.5               14  0  0  1       0           1   \n",
              "9996         31.8               17  1  0  0       0           1   \n",
              "9997         33.4               22  0  0  1       0           1   \n",
              "9998         48.5               25  1  0  0       0           1   \n",
              "9999         40.2               30  0  0  1       0           1   \n",
              "\n",
              "      Heat Dissipation Failure  Overstrain Failure  Power Failure  \\\n",
              "0                            0                   0              0   \n",
              "1                            0                   0              0   \n",
              "2                            0                   0              0   \n",
              "3                            0                   0              0   \n",
              "4                            0                   0              0   \n",
              "...                        ...                 ...            ...   \n",
              "9995                         0                   0              0   \n",
              "9996                         0                   0              0   \n",
              "9997                         0                   0              0   \n",
              "9998                         0                   0              0   \n",
              "9999                         0                   0              0   \n",
              "\n",
              "      Tool Wear Failure  Random Failures  \n",
              "0                     0                0  \n",
              "1                     0                0  \n",
              "2                     0                0  \n",
              "3                     0                0  \n",
              "4                     0                0  \n",
              "...                 ...              ...  \n",
              "9995                  0                0  \n",
              "9996                  0                0  \n",
              "9997                  0                0  \n",
              "9998                  0                0  \n",
              "9999                  0                0  \n",
              "\n",
              "[10000 rows x 15 columns]"
            ]
          },
          "execution_count": 25,
          "metadata": {},
          "output_type": "execute_result"
        }
      ],
      "source": [
        "DF"
      ]
    },
    {
      "cell_type": "code",
      "execution_count": null,
      "metadata": {
        "colab": {
          "base_uri": "https://localhost:8080/"
        },
        "id": "RkHFLthiomkB",
        "outputId": "677deea3-8441-44bd-9ee5-03cfb2708248"
      },
      "outputs": [
        {
          "name": "stdout",
          "output_type": "stream",
          "text": [
            "(10000, 8)\n",
            "(10000, 7)\n"
          ]
        }
      ],
      "source": [
        "X = DF.values[:, 0:8].astype(\"float\")\n",
        "y = DF.values[:,8:].astype(\"uint8\")\n",
        "print(X.shape)\n",
        "print(y.shape)"
      ]
    },
    {
      "cell_type": "code",
      "execution_count": null,
      "metadata": {
        "id": "szkEfTDcTYLk"
      },
      "outputs": [],
      "source": [
        "X_train, X_test, y_train, y_test = train_test_split(X,y, test_size=0.33)"
      ]
    },
    {
      "cell_type": "code",
      "execution_count": null,
      "metadata": {
        "colab": {
          "base_uri": "https://localhost:8080/"
        },
        "id": "_2reHeS_o_pv",
        "outputId": "e9ecf4ba-52db-4650-d651-9c7c4b51b80c"
      },
      "outputs": [
        {
          "data": {
            "text/plain": [
              "(6700, 7)"
            ]
          },
          "execution_count": 32,
          "metadata": {},
          "output_type": "execute_result"
        }
      ],
      "source": [
        "y_train.shape"
      ]
    },
    {
      "cell_type": "code",
      "execution_count": null,
      "metadata": {
        "colab": {
          "base_uri": "https://localhost:8080/"
        },
        "id": "Ci9yWbs6-JKU",
        "outputId": "e806e087-f33b-4d05-ec2a-2dad1cd03248"
      },
      "outputs": [
        {
          "data": {
            "text/plain": [
              "(3300, 7)"
            ]
          },
          "execution_count": 33,
          "metadata": {},
          "output_type": "execute_result"
        }
      ],
      "source": [
        "y_test.shape"
      ]
    },
    {
      "cell_type": "code",
      "execution_count": null,
      "metadata": {
        "id": "qOisU7XyTsJD"
      },
      "outputs": [],
      "source": [
        "scaler = StandardScaler().fit(X_test)"
      ]
    },
    {
      "cell_type": "code",
      "execution_count": null,
      "metadata": {
        "id": "jDkazo4syzCq"
      },
      "outputs": [],
      "source": [
        "lgbm = LGBMClassifier()"
      ]
    },
    {
      "cell_type": "code",
      "execution_count": null,
      "metadata": {
        "id": "uoiyY_yHnBGh"
      },
      "outputs": [],
      "source": [
        "from sklearn.multioutput import ClassifierChain"
      ]
    },
    {
      "cell_type": "code",
      "execution_count": null,
      "metadata": {
        "id": "DJKn7BZwxSfv"
      },
      "outputs": [],
      "source": [
        "model_lgb = MultiOutputClassifier(estimator=lgbm,n_jobs=None)"
      ]
    },
    {
      "cell_type": "code",
      "execution_count": null,
      "metadata": {
        "id": "HAnod9r4nJBS"
      },
      "outputs": [],
      "source": [
        "chain_lgbm = ClassifierChain(lgbm, order='random', random_state=0)"
      ]
    },
    {
      "cell_type": "code",
      "execution_count": null,
      "metadata": {
        "id": "Yaqr1X7zyD2Y"
      },
      "outputs": [],
      "source": [
        "model_lgb_pred = chain_lgbm.fit(X_train, y_train)"
      ]
    },
    {
      "cell_type": "code",
      "execution_count": null,
      "metadata": {
        "colab": {
          "base_uri": "https://localhost:8080/"
        },
        "id": "EX4ePOV9kHAF",
        "outputId": "a2f831ef-6f79-48e4-b04d-4d4c46161d23"
      },
      "outputs": [
        {
          "name": "stdout",
          "output_type": "stream",
          "text": [
            "0.983030303030303\n"
          ]
        }
      ],
      "source": [
        "print(model_lgb_pred.score(X_test,y_test))"
      ]
    },
    {
      "cell_type": "code",
      "execution_count": null,
      "metadata": {
        "id": "ZIsKL7GipbKY"
      },
      "outputs": [],
      "source": [
        "yhat_lgb = model_lgb_pred.predict(X_test)"
      ]
    },
    {
      "cell_type": "code",
      "execution_count": null,
      "metadata": {
        "colab": {
          "base_uri": "https://localhost:8080/"
        },
        "id": "Xf9bhl4IlbEi",
        "outputId": "52142d10-35e7-4408-c67b-88fafead245f"
      },
      "outputs": [
        {
          "name": "stdout",
          "output_type": "stream",
          "text": [
            "Accuracy Score: 0.9864\n",
            "Average Precision Score: 0.6157\n",
            "Matthews correlation coefficient: 0.7713\n",
            "Accuracy Score: 0.9861\n",
            "Average Precision Score: 0.9884\n",
            "Matthews correlation coefficient: 0.7688\n",
            "Accuracy Score: 0.9988\n",
            "Average Precision Score: 0.8795\n",
            "Matthews correlation coefficient: 0.9369\n",
            "Accuracy Score: 0.9961\n",
            "Average Precision Score: 0.6119\n",
            "Matthews correlation coefficient: 0.7787\n",
            "Accuracy Score: 0.9945\n",
            "Average Precision Score: 0.4536\n",
            "Matthews correlation coefficient: 0.6682\n",
            "Accuracy Score: 0.9955\n",
            "Average Precision Score: 0.0042\n",
            "Matthews correlation coefficient: -0.0011\n",
            "Accuracy Score: 0.9982\n",
            "Average Precision Score: 0.0018\n",
            "Matthews correlation coefficient: 0.0000\n"
          ]
        }
      ],
      "source": [
        "print(\"Accuracy Score: %.4f\" %(accuracy_score(y_test[:,0],yhat_lgb[:,0])))\n",
        "print(\"Average Precision Score: %.4f\" %(average_precision_score(y_test[:,0],yhat_lgb[:,0])))\n",
        "print(\"Matthews correlation coefficient: %.4f\" %(matthews_corrcoef(y_test[:,0],yhat_lgb[:,0])))\n",
        "print(\"Accuracy Score: %.4f\" %(accuracy_score(y_test[:,1],yhat_lgb[:,1])))\n",
        "print(\"Average Precision Score: %.4f\" %(average_precision_score(y_test[:,1],yhat_lgb[:,1])))\n",
        "print(\"Matthews correlation coefficient: %.4f\" %(matthews_corrcoef(y_test[:,1],yhat_lgb[:,1])))\n",
        "print(\"Accuracy Score: %.4f\" %(accuracy_score(y_test[:,2],yhat_lgb[:,2])))\n",
        "print(\"Average Precision Score: %.4f\" %(average_precision_score(y_test[:,2],yhat_lgb[:,2])))\n",
        "print(\"Matthews correlation coefficient: %.4f\" %(matthews_corrcoef(y_test[:,2],yhat_lgb[:,2])))\n",
        "print(\"Accuracy Score: %.4f\" %(accuracy_score(y_test[:,3],yhat_lgb[:,3])))\n",
        "print(\"Average Precision Score: %.4f\" %(average_precision_score(y_test[:,3],yhat_lgb[:,3])))\n",
        "print(\"Matthews correlation coefficient: %.4f\" %(matthews_corrcoef(y_test[:,3],yhat_lgb[:,3])))\n",
        "print(\"Accuracy Score: %.4f\" %(accuracy_score(y_test[:,4],yhat_lgb[:,4])))\n",
        "print(\"Average Precision Score: %.4f\" %(average_precision_score(y_test[:,4],yhat_lgb[:,4])))\n",
        "print(\"Matthews correlation coefficient: %.4f\" %(matthews_corrcoef(y_test[:,4],yhat_lgb[:,4])))\n",
        "print(\"Accuracy Score: %.4f\" %(accuracy_score(y_test[:,5],yhat_lgb[:,5])))\n",
        "print(\"Average Precision Score: %.4f\" %(average_precision_score(y_test[:,5],yhat_lgb[:,5])))\n",
        "print(\"Matthews correlation coefficient: %.4f\" %(matthews_corrcoef(y_test[:,5],yhat_lgb[:,5])))\n",
        "print(\"Accuracy Score: %.4f\" %(accuracy_score(y_test[:,6],yhat_lgb[:,6])))\n",
        "print(\"Average Precision Score: %.4f\" %(average_precision_score(y_test[:,6],yhat_lgb[:,6])))\n",
        "print(\"Matthews correlation coefficient: %.4f\" %(matthews_corrcoef(y_test[:,6],yhat_lgb[:,6])))"
      ]
    },
    {
      "cell_type": "code",
      "execution_count": null,
      "metadata": {
        "colab": {
          "base_uri": "https://localhost:8080/",
          "height": 1000
        },
        "id": "PaJCKtHtMEKr",
        "outputId": "5dda3f72-54a7-48c5-9250-181b3e5a769f"
      },
      "outputs": [
        {
          "name": "stdout",
          "output_type": "stream",
          "text": [
            "              precision    recall  f1-score   support\n",
            "\n",
            "           0       0.99      1.00      0.99      3189\n",
            "           1       0.88      0.68      0.77       111\n",
            "\n",
            "    accuracy                           0.99      3300\n",
            "   macro avg       0.94      0.84      0.88      3300\n",
            "weighted avg       0.99      0.99      0.99      3300\n",
            "\n"
          ]
        },
        {
          "data": {
            "image/png": "[encoded data removed]",
            "text/plain": [
              "<Figure size 432x288 with 2 Axes>"
            ]
          },
          "metadata": {},
          "output_type": "display_data"
        },
        {
          "name": "stdout",
          "output_type": "stream",
          "text": [
            "              precision    recall  f1-score   support\n",
            "\n",
            "           0       0.89      0.67      0.77       113\n",
            "           1       0.99      1.00      0.99      3187\n",
            "\n",
            "    accuracy                           0.99      3300\n",
            "   macro avg       0.94      0.83      0.88      3300\n",
            "weighted avg       0.99      0.99      0.99      3300\n",
            "\n"
          ]
        },
        {
          "data": {
            "image/png": "[encoded data removed]",
            "text/plain": [
              "<Figure size 432x288 with 2 Axes>"
            ]
          },
          "metadata": {},
          "output_type": "display_data"
        },
        {
          "name": "stdout",
          "output_type": "stream",
          "text": [
            "              precision    recall  f1-score   support\n",
            "\n",
            "           0       1.00      1.00      1.00      3268\n",
            "           1       0.94      0.94      0.94        32\n",
            "\n",
            "    accuracy                           1.00      3300\n",
            "   macro avg       0.97      0.97      0.97      3300\n",
            "weighted avg       1.00      1.00      1.00      3300\n",
            "\n"
          ]
        },
        {
          "data": {
            "image/png": "[encoded data removed]",
            "text/plain": [
              "<Figure size 432x288 with 2 Axes>"
            ]
          },
          "metadata": {},
          "output_type": "display_data"
        },
        {
          "name": "stdout",
          "output_type": "stream",
          "text": [
            "              precision    recall  f1-score   support\n",
            "\n",
            "           0       1.00      1.00      1.00      3269\n",
            "           1       0.82      0.74      0.78        31\n",
            "\n",
            "    accuracy                           1.00      3300\n",
            "   macro avg       0.91      0.87      0.89      3300\n",
            "weighted avg       1.00      1.00      1.00      3300\n",
            "\n"
          ]
        },
        {
          "data": {
            "image/png": "[encoded data removed]",
            "text/plain": [
              "<Figure size 432x288 with 2 Axes>"
            ]
          },
          "metadata": {},
          "output_type": "display_data"
        },
        {
          "name": "stdout",
          "output_type": "stream",
          "text": [
            "              precision    recall  f1-score   support\n",
            "\n",
            "           0       1.00      1.00      1.00      3270\n",
            "           1       0.75      0.60      0.67        30\n",
            "\n",
            "    accuracy                           0.99      3300\n",
            "   macro avg       0.87      0.80      0.83      3300\n",
            "weighted avg       0.99      0.99      0.99      3300\n",
            "\n"
          ]
        },
        {
          "data": {
            "image/png": "[encoded data removed]",
            "text/plain": [
              "<Figure size 432x288 with 2 Axes>"
            ]
          },
          "metadata": {},
          "output_type": "display_data"
        },
        {
          "name": "stdout",
          "output_type": "stream",
          "text": [
            "              precision    recall  f1-score   support\n",
            "\n",
            "           0       1.00      1.00      1.00      3286\n",
            "           1       0.00      0.00      0.00        14\n",
            "\n",
            "    accuracy                           1.00      3300\n",
            "   macro avg       0.50      0.50      0.50      3300\n",
            "weighted avg       0.99      1.00      0.99      3300\n",
            "\n"
          ]
        },
        {
          "data": {
            "image/png": "[encoded data removed]",
            "text/plain": [
              "<Figure size 432x288 with 2 Axes>"
            ]
          },
          "metadata": {},
          "output_type": "display_data"
        },
        {
          "name": "stdout",
          "output_type": "stream",
          "text": [
            "              precision    recall  f1-score   support\n",
            "\n",
            "           0       1.00      1.00      1.00      3294\n",
            "           1       0.00      0.00      0.00         6\n",
            "\n",
            "    accuracy                           1.00      3300\n",
            "   macro avg       0.50      0.50      0.50      3300\n",
            "weighted avg       1.00      1.00      1.00      3300\n",
            "\n"
          ]
        },
        {
          "name": "stderr",
          "output_type": "stream",
          "text": [
            "/usr/local/lib/python3.7/dist-packages/sklearn/metrics/_classification.py:1318: UndefinedMetricWarning: Precision and F-score are ill-defined and being set to 0.0 in labels with no predicted samples. Use `zero_division` parameter to control this behavior.\n",
            "  _warn_prf(average, modifier, msg_start, len(result))\n",
            "/usr/local/lib/python3.7/dist-packages/sklearn/metrics/_classification.py:1318: UndefinedMetricWarning: Precision and F-score are ill-defined and being set to 0.0 in labels with no predicted samples. Use `zero_division` parameter to control this behavior.\n",
            "  _warn_prf(average, modifier, msg_start, len(result))\n",
            "/usr/local/lib/python3.7/dist-packages/sklearn/metrics/_classification.py:1318: UndefinedMetricWarning: Precision and F-score are ill-defined and being set to 0.0 in labels with no predicted samples. Use `zero_division` parameter to control this behavior.\n",
            "  _warn_prf(average, modifier, msg_start, len(result))\n"
          ]
        },
        {
          "data": {
            "image/png": "[encoded data removed]",
            "text/plain": [
              "<Figure size 432x288 with 2 Axes>"
            ]
          },
          "metadata": {},
          "output_type": "display_data"
        }
      ],
      "source": [
        "print(classification_report(y_test[:,0],yhat_lgb[:,0]))\n",
        "tn, fp, fn, tp = confusion_matrix(y_test[:,0],yhat_lgb[:,0]).ravel()\n",
        "skplt.metrics.plot_confusion_matrix(y_test[:,0],yhat_lgb[:,0], normalize=False)\n",
        "plt.show()\n",
        "print(classification_report(y_test[:,1],yhat_lgb[:,1]))\n",
        "tn, fp, fn, tp = confusion_matrix(y_test[:,1],yhat_lgb[:,1]).ravel()\n",
        "skplt.metrics.plot_confusion_matrix(y_test[:,1],yhat_lgb[:,1], normalize=False)\n",
        "plt.show()\n",
        "print(classification_report(y_test[:,2],yhat_lgb[:,2]))\n",
        "tn, fp, fn, tp = confusion_matrix(y_test[:,2],yhat_lgb[:,2]).ravel()\n",
        "skplt.metrics.plot_confusion_matrix(y_test[:,2],yhat_lgb[:,2], normalize=False)\n",
        "plt.show()\n",
        "print(classification_report(y_test[:,3],yhat_lgb[:,3]))\n",
        "tn, fp, fn, tp = confusion_matrix(y_test[:,3],yhat_lgb[:,3]).ravel()\n",
        "skplt.metrics.plot_confusion_matrix(y_test[:,3],yhat_lgb[:,3], normalize=False)\n",
        "plt.show()\n",
        "print(classification_report(y_test[:,4],yhat_lgb[:,4]))\n",
        "tn, fp, fn, tp = confusion_matrix(y_test[:,4],yhat_lgb[:,4]).ravel()\n",
        "skplt.metrics.plot_confusion_matrix(y_test[:,4],yhat_lgb[:,4], normalize=False)\n",
        "plt.show()\n",
        "print(classification_report(y_test[:,5],yhat_lgb[:,5]))\n",
        "tn, fp, fn, tp = confusion_matrix(y_test[:,5],yhat_lgb[:,5]).ravel()\n",
        "skplt.metrics.plot_confusion_matrix(y_test[:,5],yhat_lgb[:,5], normalize=False)\n",
        "plt.show()\n",
        "print(classification_report(y_test[:,6],yhat_lgb[:,6]))\n",
        "tn, fp, fn, tp = confusion_matrix(y_test[:,6],yhat_lgb[:,6]).ravel()\n",
        "skplt.metrics.plot_confusion_matrix(y_test[:,6],yhat_lgb[:,6], normalize=False)\n",
        "plt.show()"
      ]
    },
    {
      "cell_type": "code",
      "execution_count": null,
      "metadata": {
        "colab": {
          "base_uri": "https://localhost:8080/",
          "height": 295
        },
        "id": "lnoC6LskVbNO",
        "outputId": "744ad8dc-0baa-4037-e4b3-25fdbdabef65"
      },
      "outputs": [
        {
          "data": {
            "image/png": "[encoded data removed]",
            "text/plain": [
              "<Figure size 432x288 with 1 Axes>"
            ]
          },
          "metadata": {},
          "output_type": "display_data"
        }
      ],
      "source": [
        "# precision recall curve\n",
        "precision = dict()\n",
        "recall = dict()\n",
        "n_classes = 7\n",
        "for i in range(n_classes):\n",
        "    precision[i], recall[i], _ = precision_recall_curve(y_test[:,i],\n",
        "                                                        yhat_lgb[:,i])\n",
        "    plt.plot(recall[i], precision[i], lw=2, label='Failure Type {}'.format(i))\n",
        "    \n",
        "plt.xlabel(\"recall\")\n",
        "plt.ylabel(\"precision\")\n",
        "plt.legend(loc=\"best\")\n",
        "plt.title(\"precision vs. recall curve\")\n",
        "plt.show()"
      ]
    },
    {
      "cell_type": "code",
      "execution_count": null,
      "metadata": {
        "id": "gjbUv1M2gQKf"
      },
      "outputs": [],
      "source": [
        "rand = RandomForestClassifier()\n",
        "rf = MultiOutputClassifier(estimator=rand)"
      ]
    },
    {
      "cell_type": "code",
      "execution_count": null,
      "metadata": {
        "colab": {
          "base_uri": "https://localhost:8080/"
        },
        "id": "Xiutnqz4gQU1",
        "outputId": "727c5bcf-c9b0-4984-922b-001b9dfc5743"
      },
      "outputs": [
        {
          "name": "stdout",
          "output_type": "stream",
          "text": [
            "0.9727272727272728\n"
          ]
        }
      ],
      "source": [
        "rf.fit(X_train, y_train)\n",
        "print(rf.score(X_test, y_test))"
      ]
    },
    {
      "cell_type": "code",
      "execution_count": null,
      "metadata": {
        "id": "KlmbRowlgQXk"
      },
      "outputs": [],
      "source": [
        "yhat_rand = rf.predict(X_test)"
      ]
    },
    {
      "cell_type": "code",
      "execution_count": null,
      "metadata": {
        "colab": {
          "base_uri": "https://localhost:8080/"
        },
        "id": "9DaETqptgQaH",
        "outputId": "4025773b-c599-43e7-94b4-eaeb8b0bcb9f"
      },
      "outputs": [
        {
          "name": "stdout",
          "output_type": "stream",
          "text": [
            "Accuracy Score: 0.9809\n",
            "Average Precision Score: 0.4599\n",
            "Matthews correlation coefficient: 0.6577\n",
            "Accuracy Score: 0.9803\n",
            "Average Precision Score: 0.9823\n",
            "Matthews correlation coefficient: 0.6502\n",
            "Accuracy Score: 0.9939\n",
            "Average Precision Score: 0.3830\n",
            "Matthews correlation coefficient: 0.6120\n",
            "Accuracy Score: 0.9930\n",
            "Average Precision Score: 0.2849\n",
            "Matthews correlation coefficient: 0.5253\n",
            "Accuracy Score: 0.9952\n",
            "Average Precision Score: 0.5047\n",
            "Matthews correlation coefficient: 0.7057\n",
            "Accuracy Score: 0.9958\n",
            "Average Precision Score: 0.0042\n",
            "Matthews correlation coefficient: 0.0000\n"
          ]
        }
      ],
      "source": [
        "print(\"Accuracy Score: %.4f\" %(accuracy_score(y_test[:,0],yhat_rand[:,0])))\n",
        "print(\"Average Precision Score: %.4f\" %(average_precision_score(y_test[:,0],yhat_rand[:,0])))\n",
        "print(\"Matthews correlation coefficient: %.4f\" %(matthews_corrcoef(y_test[:,0],yhat_rand[:,0])))\n",
        "print(\"Accuracy Score: %.4f\" %(accuracy_score(y_test[:,1],yhat_rand[:,1])))\n",
        "print(\"Average Precision Score: %.4f\" %(average_precision_score(y_test[:,1],yhat_rand[:,1])))\n",
        "print(\"Matthews correlation coefficient: %.4f\" %(matthews_corrcoef(y_test[:,1],yhat_rand[:,1])))\n",
        "print(\"Accuracy Score: %.4f\" %(accuracy_score(y_test[:,2],yhat_rand[:,2])))\n",
        "print(\"Average Precision Score: %.4f\" %(average_precision_score(y_test[:,2],yhat_rand[:,2])))\n",
        "print(\"Matthews correlation coefficient: %.4f\" %(matthews_corrcoef(y_test[:,2],yhat_rand[:,2])))\n",
        "print(\"Accuracy Score: %.4f\" %(accuracy_score(y_test[:,3],yhat_rand[:,3])))\n",
        "print(\"Average Precision Score: %.4f\" %(average_precision_score(y_test[:,3],yhat_rand[:,3])))\n",
        "print(\"Matthews correlation coefficient: %.4f\" %(matthews_corrcoef(y_test[:,3],yhat_rand[:,3])))\n",
        "print(\"Accuracy Score: %.4f\" %(accuracy_score(y_test[:,4],yhat_rand[:,4])))\n",
        "print(\"Average Precision Score: %.4f\" %(average_precision_score(y_test[:,4],yhat_rand[:,4])))\n",
        "print(\"Matthews correlation coefficient: %.4f\" %(matthews_corrcoef(y_test[:,4],yhat_rand[:,4])))\n",
        "print(\"Accuracy Score: %.4f\" %(accuracy_score(y_test[:,5],yhat_rand[:,5])))\n",
        "print(\"Average Precision Score: %.4f\" %(average_precision_score(y_test[:,5],yhat_rand[:,5])))\n",
        "print(\"Matthews correlation coefficient: %.4f\" %(matthews_corrcoef(y_test[:,5],yhat_rand[:,5])))"
      ]
    },
    {
      "cell_type": "code",
      "execution_count": null,
      "metadata": {
        "colab": {
          "base_uri": "https://localhost:8080/",
          "height": 295
        },
        "id": "f8vnwaeGQ25Q",
        "outputId": "5417676a-2875-4f77-b1c7-0d2adf2c171b"
      },
      "outputs": [
        {
          "data": {
            "image/png": "[encoded data removed]",
            "text/plain": [
              "<Figure size 432x288 with 1 Axes>"
            ]
          },
          "metadata": {},
          "output_type": "display_data"
        }
      ],
      "source": [
        "# precision recall curve\n",
        "precision = dict()\n",
        "recall = dict()\n",
        "n_classes = 6\n",
        "for i in range(n_classes):\n",
        "    precision[i], recall[i], _ = precision_recall_curve(y_test[:,i],\n",
        "                                                        yhat_rand[:,i])\n",
        "    plt.plot(recall[i], precision[i], lw=2, label='Failure Type {}'.format(i))\n",
        "    \n",
        "plt.xlabel(\"recall\")\n",
        "plt.ylabel(\"precision\")\n",
        "plt.legend(loc=\"best\")\n",
        "plt.title(\"precision vs. recall curve\")\n",
        "plt.show()"
      ]
    },
    {
      "cell_type": "code",
      "execution_count": null,
      "metadata": {
        "colab": {
          "base_uri": "https://localhost:8080/",
          "height": 1000
        },
        "id": "VWyvLor9gdCF",
        "outputId": "91e74b25-cb15-4fab-818a-b4c24b8924f6"
      },
      "outputs": [
        {
          "name": "stdout",
          "output_type": "stream",
          "text": [
            "              precision    recall  f1-score   support\n",
            "\n",
            "           0       0.98      1.00      0.99      3189\n",
            "           1       0.86      0.51      0.64       111\n",
            "\n",
            "    accuracy                           0.98      3300\n",
            "   macro avg       0.92      0.76      0.82      3300\n",
            "weighted avg       0.98      0.98      0.98      3300\n",
            "\n"
          ]
        },
        {
          "data": {
            "image/png": "[encoded data removed]",
            "text/plain": [
              "<Figure size 432x288 with 2 Axes>"
            ]
          },
          "metadata": {},
          "output_type": "display_data"
        },
        {
          "name": "stdout",
          "output_type": "stream",
          "text": [
            "              precision    recall  f1-score   support\n",
            "\n",
            "           0       0.88      0.50      0.63       113\n",
            "           1       0.98      1.00      0.99      3187\n",
            "\n",
            "    accuracy                           0.98      3300\n",
            "   macro avg       0.93      0.75      0.81      3300\n",
            "weighted avg       0.98      0.98      0.98      3300\n",
            "\n"
          ]
        },
        {
          "data": {
            "image/png": "[encoded data removed]",
            "text/plain": [
              "<Figure size 432x288 with 2 Axes>"
            ]
          },
          "metadata": {},
          "output_type": "display_data"
        },
        {
          "name": "stdout",
          "output_type": "stream",
          "text": [
            "              precision    recall  f1-score   support\n",
            "\n",
            "           0       0.99      1.00      1.00      3268\n",
            "           1       0.93      0.41      0.57        32\n",
            "\n",
            "    accuracy                           0.99      3300\n",
            "   macro avg       0.96      0.70      0.78      3300\n",
            "weighted avg       0.99      0.99      0.99      3300\n",
            "\n"
          ]
        },
        {
          "data": {
            "image/png": "[encoded data removed]",
            "text/plain": [
              "<Figure size 432x288 with 2 Axes>"
            ]
          },
          "metadata": {},
          "output_type": "display_data"
        },
        {
          "name": "stdout",
          "output_type": "stream",
          "text": [
            "              precision    recall  f1-score   support\n",
            "\n",
            "           0       0.99      1.00      1.00      3269\n",
            "           1       0.79      0.35      0.49        31\n",
            "\n",
            "    accuracy                           0.99      3300\n",
            "   macro avg       0.89      0.68      0.74      3300\n",
            "weighted avg       0.99      0.99      0.99      3300\n",
            "\n"
          ]
        },
        {
          "data": {
            "image/png": "[encoded data removed]",
            "text/plain": [
              "<Figure size 432x288 with 2 Axes>"
            ]
          },
          "metadata": {},
          "output_type": "display_data"
        },
        {
          "name": "stdout",
          "output_type": "stream",
          "text": [
            "              precision    recall  f1-score   support\n",
            "\n",
            "           0       1.00      1.00      1.00      3270\n",
            "           1       0.79      0.63      0.70        30\n",
            "\n",
            "    accuracy                           1.00      3300\n",
            "   macro avg       0.89      0.82      0.85      3300\n",
            "weighted avg       0.99      1.00      0.99      3300\n",
            "\n"
          ]
        },
        {
          "data": {
            "image/png": "[encoded data removed]",
            "text/plain": [
              "<Figure size 432x288 with 2 Axes>"
            ]
          },
          "metadata": {},
          "output_type": "display_data"
        },
        {
          "name": "stderr",
          "output_type": "stream",
          "text": [
            "/usr/local/lib/python3.7/dist-packages/sklearn/metrics/_classification.py:1318: UndefinedMetricWarning: Precision and F-score are ill-defined and being set to 0.0 in labels with no predicted samples. Use `zero_division` parameter to control this behavior.\n",
            "  _warn_prf(average, modifier, msg_start, len(result))\n",
            "/usr/local/lib/python3.7/dist-packages/sklearn/metrics/_classification.py:1318: UndefinedMetricWarning: Precision and F-score are ill-defined and being set to 0.0 in labels with no predicted samples. Use `zero_division` parameter to control this behavior.\n",
            "  _warn_prf(average, modifier, msg_start, len(result))\n",
            "/usr/local/lib/python3.7/dist-packages/sklearn/metrics/_classification.py:1318: UndefinedMetricWarning: Precision and F-score are ill-defined and being set to 0.0 in labels with no predicted samples. Use `zero_division` parameter to control this behavior.\n",
            "  _warn_prf(average, modifier, msg_start, len(result))\n"
          ]
        },
        {
          "name": "stdout",
          "output_type": "stream",
          "text": [
            "              precision    recall  f1-score   support\n",
            "\n",
            "           0       1.00      1.00      1.00      3286\n",
            "           1       0.00      0.00      0.00        14\n",
            "\n",
            "    accuracy                           1.00      3300\n",
            "   macro avg       0.50      0.50      0.50      3300\n",
            "weighted avg       0.99      1.00      0.99      3300\n",
            "\n"
          ]
        },
        {
          "data": {
            "image/png": "[encoded data removed]",
            "text/plain": [
              "<Figure size 432x288 with 2 Axes>"
            ]
          },
          "metadata": {},
          "output_type": "display_data"
        }
      ],
      "source": [
        "print(classification_report(y_test[:,0],yhat_rand[:,0]))\n",
        "tn, fp, fn, tp = confusion_matrix(y_test[:,0],yhat_rand[:,0]).ravel()\n",
        "skplt.metrics.plot_confusion_matrix(y_test[:,0],yhat_rand[:,0], normalize=False)\n",
        "plt.show()\n",
        "print(classification_report(y_test[:,1],yhat_rand[:,1]))\n",
        "tn, fp, fn, tp = confusion_matrix(y_test[:,1],yhat_rand[:,1]).ravel()\n",
        "skplt.metrics.plot_confusion_matrix(y_test[:,1],yhat_rand[:,1], normalize=False)\n",
        "plt.show()\n",
        "print(classification_report(y_test[:,2],yhat_rand[:,2]))\n",
        "tn, fp, fn, tp = confusion_matrix(y_test[:,2],yhat_rand[:,2]).ravel()\n",
        "skplt.metrics.plot_confusion_matrix(y_test[:,2],yhat_rand[:,2], normalize=False)\n",
        "plt.show()\n",
        "print(classification_report(y_test[:,3],yhat_rand[:,3]))\n",
        "tn, fp, fn, tp = confusion_matrix(y_test[:,3],yhat_rand[:,3]).ravel()\n",
        "skplt.metrics.plot_confusion_matrix(y_test[:,3],yhat_rand[:,3], normalize=False)\n",
        "plt.show()\n",
        "print(classification_report(y_test[:,4],yhat_rand[:,4]))\n",
        "tn, fp, fn, tp = confusion_matrix(y_test[:,4],yhat_rand[:,4]).ravel()\n",
        "skplt.metrics.plot_confusion_matrix(y_test[:,4],yhat_rand[:,4], normalize=False)\n",
        "plt.show()\n",
        "print(classification_report(y_test[:,5],yhat_rand[:,5]))\n",
        "tn, fp, fn, tp = confusion_matrix(y_test[:,5],yhat_rand[:,5]).ravel()\n",
        "skplt.metrics.plot_confusion_matrix(y_test[:,5],yhat_rand[:,5], normalize=False)\n",
        "plt.show()"
      ]
    },
    {
      "cell_type": "code",
      "execution_count": null,
      "metadata": {
        "colab": {
          "base_uri": "https://localhost:8080/"
        },
        "id": "38eIdfjuhXkW",
        "outputId": "91c820a5-94bf-4b8a-aed2-4d305c7dfd04"
      },
      "outputs": [
        {
          "name": "stdout",
          "output_type": "stream",
          "text": [
            "Collecting catboost\n",
            "  Downloading catboost-1.0.6-cp37-none-manylinux1_x86_64.whl (76.6 MB)\n",
            "\u001b[K     |████████████████████████████████| 76.6 MB 1.3 MB/s \n",
            "\u001b[?25hRequirement already satisfied: pandas>=0.24.0 in /usr/local/lib/python3.7/dist-packages (from catboost) (1.3.5)\n",
            "Requirement already satisfied: six in /usr/local/lib/python3.7/dist-packages (from catboost) (1.15.0)\n",
            "Requirement already satisfied: graphviz in /usr/local/lib/python3.7/dist-packages (from catboost) (0.10.1)\n",
            "Requirement already satisfied: scipy in /usr/local/lib/python3.7/dist-packages (from catboost) (1.4.1)\n",
            "Requirement already satisfied: numpy>=1.16.0 in /usr/local/lib/python3.7/dist-packages (from catboost) (1.21.6)\n",
            "Requirement already satisfied: plotly in /usr/local/lib/python3.7/dist-packages (from catboost) (5.5.0)\n",
            "Requirement already satisfied: matplotlib in /usr/local/lib/python3.7/dist-packages (from catboost) (3.2.2)\n",
            "Requirement already satisfied: pytz>=2017.3 in /usr/local/lib/python3.7/dist-packages (from pandas>=0.24.0->catboost) (2022.1)\n",
            "Requirement already satisfied: python-dateutil>=2.7.3 in /usr/local/lib/python3.7/dist-packages (from pandas>=0.24.0->catboost) (2.8.2)\n",
            "Requirement already satisfied: kiwisolver>=1.0.1 in /usr/local/lib/python3.7/dist-packages (from matplotlib->catboost) (1.4.2)\n",
            "Requirement already satisfied: cycler>=0.10 in /usr/local/lib/python3.7/dist-packages (from matplotlib->catboost) (0.11.0)\n",
            "Requirement already satisfied: pyparsing!=2.0.4,!=2.1.2,!=2.1.6,>=2.0.1 in /usr/local/lib/python3.7/dist-packages (from matplotlib->catboost) (3.0.9)\n",
            "Requirement already satisfied: typing-extensions in /usr/local/lib/python3.7/dist-packages (from kiwisolver>=1.0.1->matplotlib->catboost) (4.2.0)\n",
            "Requirement already satisfied: tenacity>=6.2.0 in /usr/local/lib/python3.7/dist-packages (from plotly->catboost) (8.0.1)\n",
            "Installing collected packages: catboost\n",
            "Successfully installed catboost-1.0.6\n"
          ]
        }
      ],
      "source": [
        "!pip install catboost"
      ]
    },
    {
      "cell_type": "code",
      "execution_count": null,
      "metadata": {
        "id": "qFRP3K5Y27bd"
      },
      "outputs": [],
      "source": [
        "from catboost import CatBoostClassifier, Pool, cv"
      ]
    },
    {
      "cell_type": "code",
      "execution_count": null,
      "metadata": {
        "id": "_namwJMJLJ-4"
      },
      "outputs": [],
      "source": [
        "catb = CatBoostClassifier()\n",
        "model_catb = MultiOutputClassifier(estimator=catb)"
      ]
    },
    {
      "cell_type": "code",
      "execution_count": null,
      "metadata": {
        "id": "OTN5Gscii0TV"
      },
      "outputs": [],
      "source": [
        "model_catb.fit(X_train, y_train)\n",
        "print(model_catb.score(X_test, y_test))"
      ]
    },
    {
      "cell_type": "code",
      "execution_count": null,
      "metadata": {
        "id": "V6_Z4Xws2yrF"
      },
      "outputs": [],
      "source": [
        "yhat_catb = model_catb.predict(X_test)"
      ]
    },
    {
      "cell_type": "code",
      "execution_count": null,
      "metadata": {
        "id": "zSxIbdkImThB"
      },
      "outputs": [],
      "source": [
        "print(\"Accuracy Score: %.4f\" %(accuracy_score(y_test[:,0],yhat_catb[:,0])))\n",
        "print(\"Average Precision Score: %.4f\" %(average_precision_score(y_test[:,0],yhat_catb[:,0])))\n",
        "print(\"Matthews correlation coefficient: %.4f\" %(matthews_corrcoef(y_test[:,0],yhat_catb[:,0])))\n",
        "print(\"Accuracy Score: %.4f\" %(accuracy_score(y_test[:,1],yhat_catb[:,1])))\n",
        "print(\"Average Precision Score: %.4f\" %(average_precision_score(y_test[:,1],yhat_catb[:,1])))\n",
        "print(\"Matthews correlation coefficient: %.4f\" %(matthews_corrcoef(y_test[:,1],yhat_catb[:,1])))\n",
        "print(\"Accuracy Score: %.4f\" %(accuracy_score(y_test[:,2],yhat_catb[:,2])))\n",
        "print(\"Average Precision Score: %.4f\" %(average_precision_score(y_test[:,2],yhat_catb[:,2])))\n",
        "print(\"Matthews correlation coefficient: %.4f\" %(matthews_corrcoef(y_test[:,2],yhat_catb[:,2])))\n",
        "print(\"Accuracy Score: %.4f\" %(accuracy_score(y_test[:,3],yhat_catb[:,3])))\n",
        "print(\"Average Precision Score: %.4f\" %(average_precision_score(y_test[:,3],yhat_catb[:,3])))\n",
        "print(\"Matthews correlation coefficient: %.4f\" %(matthews_corrcoef(y_test[:,3],yhat_catb[:,3])))\n",
        "print(\"Accuracy Score: %.4f\" %(accuracy_score(y_test[:,4],yhat_catb[:,4])))\n",
        "print(\"Average Precision Score: %.4f\" %(average_precision_score(y_test[:,4],yhat_catb[:,4])))\n",
        "print(\"Matthews correlation coefficient: %.4f\" %(matthews_corrcoef(y_test[:,4],yhat_catb[:,4])))\n",
        "print(\"Accuracy Score: %.4f\" %(accuracy_score(y_test[:,5],yhat_catb[:,5])))\n",
        "print(\"Average Precision Score: %.4f\" %(average_precision_score(y_test[:,5],yhat_catb[:,5])))\n",
        "print(\"Matthews correlation coefficient: %.4f\" %(matthews_corrcoef(y_test[:,5],yhat_catb[:,5])))"
      ]
    },
    {
      "cell_type": "code",
      "execution_count": null,
      "metadata": {
        "colab": {
          "background_save": true
        },
        "id": "3jSJRq0sSK3v",
        "outputId": "5f3532fc-d98f-4df5-8328-e9606e6378a3"
      },
      "outputs": [
        {
          "data": {
            "image/png": "[encoded data removed]",
            "text/plain": [
              "<Figure size 432x288 with 1 Axes>"
            ]
          },
          "metadata": {},
          "output_type": "display_data"
        }
      ],
      "source": [
        "# precision recall curve\n",
        "precision = dict()\n",
        "recall = dict()\n",
        "n_classes = 6\n",
        "for i in range(n_classes):\n",
        "    precision[i], recall[i], _ = precision_recall_curve(y_test[:,i],\n",
        "                                                        yhat_catb[:,i])\n",
        "    plt.plot(recall[i], precision[i], lw=2, label='Failure Type {}'.format(i))\n",
        "    \n",
        "plt.xlabel(\"recall\")\n",
        "plt.ylabel(\"precision\")\n",
        "plt.legend(loc=\"best\")\n",
        "plt.title(\"precision vs. recall curve\")\n",
        "plt.show()"
      ]
    },
    {
      "cell_type": "code",
      "execution_count": null,
      "metadata": {
        "colab": {
          "background_save": true
        },
        "id": "NPFGgQci331J",
        "outputId": "a56af2ba-2513-4481-c15f-f82e12f21b65"
      },
      "outputs": [
        {
          "name": "stdout",
          "output_type": "stream",
          "text": [
            "              precision    recall  f1-score   support\n",
            "\n",
            "           0       0.99      1.00      0.99      3189\n",
            "           1       0.93      0.68      0.78       111\n",
            "\n",
            "    accuracy                           0.99      3300\n",
            "   macro avg       0.96      0.84      0.89      3300\n",
            "weighted avg       0.99      0.99      0.99      3300\n",
            "\n"
          ]
        },
        {
          "data": {
            "image/png": "[encoded data removed]",
            "text/plain": [
              "<Figure size 432x288 with 2 Axes>"
            ]
          },
          "metadata": {},
          "output_type": "display_data"
        },
        {
          "name": "stdout",
          "output_type": "stream",
          "text": [
            "              precision    recall  f1-score   support\n",
            "\n",
            "           0       0.88      0.66      0.76       113\n",
            "           1       0.99      1.00      0.99      3187\n",
            "\n",
            "    accuracy                           0.99      3300\n",
            "   macro avg       0.94      0.83      0.88      3300\n",
            "weighted avg       0.98      0.99      0.98      3300\n",
            "\n"
          ]
        },
        {
          "data": {
            "image/png": "[encoded data removed]",
            "text/plain": [
              "<Figure size 432x288 with 2 Axes>"
            ]
          },
          "metadata": {},
          "output_type": "display_data"
        },
        {
          "name": "stdout",
          "output_type": "stream",
          "text": [
            "              precision    recall  f1-score   support\n",
            "\n",
            "           0       1.00      1.00      1.00      3268\n",
            "           1       0.97      0.91      0.94        32\n",
            "\n",
            "    accuracy                           1.00      3300\n",
            "   macro avg       0.98      0.95      0.97      3300\n",
            "weighted avg       1.00      1.00      1.00      3300\n",
            "\n"
          ]
        },
        {
          "data": {
            "image/png": "[encoded data removed]",
            "text/plain": [
              "<Figure size 432x288 with 2 Axes>"
            ]
          },
          "metadata": {},
          "output_type": "display_data"
        },
        {
          "name": "stdout",
          "output_type": "stream",
          "text": [
            "              precision    recall  f1-score   support\n",
            "\n",
            "           0       1.00      1.00      1.00      3269\n",
            "           1       0.68      0.74      0.71        31\n",
            "\n",
            "    accuracy                           0.99      3300\n",
            "   macro avg       0.84      0.87      0.85      3300\n",
            "weighted avg       0.99      0.99      0.99      3300\n",
            "\n"
          ]
        },
        {
          "data": {
            "image/png": "[encoded data removed]",
            "text/plain": [
              "<Figure size 432x288 with 2 Axes>"
            ]
          },
          "metadata": {},
          "output_type": "display_data"
        },
        {
          "name": "stdout",
          "output_type": "stream",
          "text": [
            "              precision    recall  f1-score   support\n",
            "\n",
            "           0       1.00      1.00      1.00      3270\n",
            "           1       0.88      0.70      0.78        30\n",
            "\n",
            "    accuracy                           1.00      3300\n",
            "   macro avg       0.94      0.85      0.89      3300\n",
            "weighted avg       1.00      1.00      1.00      3300\n",
            "\n"
          ]
        },
        {
          "data": {
            "image/png": "[encoded data removed]",
            "text/plain": [
              "<Figure size 432x288 with 2 Axes>"
            ]
          },
          "metadata": {},
          "output_type": "display_data"
        },
        {
          "name": "stdout",
          "output_type": "stream",
          "text": [
            "              precision    recall  f1-score   support\n",
            "\n",
            "           0       1.00      1.00      1.00      3286\n",
            "           1       0.00      0.00      0.00        14\n",
            "\n",
            "    accuracy                           1.00      3300\n",
            "   macro avg       0.50      0.50      0.50      3300\n",
            "weighted avg       0.99      1.00      0.99      3300\n",
            "\n"
          ]
        },
        {
          "name": "stderr",
          "output_type": "stream",
          "text": [
            "/usr/local/lib/python3.7/dist-packages/sklearn/metrics/_classification.py:1318: UndefinedMetricWarning: Precision and F-score are ill-defined and being set to 0.0 in labels with no predicted samples. Use `zero_division` parameter to control this behavior.\n",
            "  _warn_prf(average, modifier, msg_start, len(result))\n",
            "/usr/local/lib/python3.7/dist-packages/sklearn/metrics/_classification.py:1318: UndefinedMetricWarning: Precision and F-score are ill-defined and being set to 0.0 in labels with no predicted samples. Use `zero_division` parameter to control this behavior.\n",
            "  _warn_prf(average, modifier, msg_start, len(result))\n",
            "/usr/local/lib/python3.7/dist-packages/sklearn/metrics/_classification.py:1318: UndefinedMetricWarning: Precision and F-score are ill-defined and being set to 0.0 in labels with no predicted samples. Use `zero_division` parameter to control this behavior.\n",
            "  _warn_prf(average, modifier, msg_start, len(result))\n"
          ]
        },
        {
          "data": {
            "image/png": "[encoded data removed]",
            "text/plain": [
              "<Figure size 432x288 with 2 Axes>"
            ]
          },
          "metadata": {},
          "output_type": "display_data"
        }
      ],
      "source": [
        "print(classification_report(y_test[:,0],yhat_catb[:,0]))\n",
        "tn, fp, fn, tp = confusion_matrix(y_test[:,0],yhat_catb[:,0]).ravel()\n",
        "skplt.metrics.plot_confusion_matrix(y_test[:,0],yhat_catb[:,0], normalize=False)\n",
        "plt.show()\n",
        "print(classification_report(y_test[:,1],yhat_catb[:,1]))\n",
        "tn, fp, fn, tp = confusion_matrix(y_test[:,1],yhat_catb[:,1]).ravel()\n",
        "skplt.metrics.plot_confusion_matrix(y_test[:,1],yhat_catb[:,1], normalize=False)\n",
        "plt.show()\n",
        "print(classification_report(y_test[:,2],yhat_catb[:,2]))\n",
        "tn, fp, fn, tp = confusion_matrix(y_test[:,2],yhat_catb[:,2]).ravel()\n",
        "skplt.metrics.plot_confusion_matrix(y_test[:,2],yhat_catb[:,2], normalize=False)\n",
        "plt.show()\n",
        "print(classification_report(y_test[:,3],yhat_catb[:,3]))\n",
        "tn, fp, fn, tp = confusion_matrix(y_test[:,3],yhat_catb[:,3]).ravel()\n",
        "skplt.metrics.plot_confusion_matrix(y_test[:,3],yhat_catb[:,3], normalize=False)\n",
        "plt.show()\n",
        "print(classification_report(y_test[:,4],yhat_catb[:,4]))\n",
        "tn, fp, fn, tp = confusion_matrix(y_test[:,4],yhat_catb[:,4]).ravel()\n",
        "skplt.metrics.plot_confusion_matrix(y_test[:,4],yhat_catb[:,4], normalize=False)\n",
        "plt.show()\n",
        "print(classification_report(y_test[:,5],yhat_catb[:,5]))\n",
        "tn, fp, fn, tp = confusion_matrix(y_test[:,5],yhat_catb[:,5]).ravel()\n",
        "skplt.metrics.plot_confusion_matrix(y_test[:,5],yhat_catb[:,5], normalize=False)\n",
        "plt.show()"
      ]
    },
    {
      "cell_type": "code",
      "execution_count": null,
      "metadata": {
        "id": "9W4bShhcjo3n"
      },
      "outputs": [],
      "source": [
        ""
      ]
    }
  ],
  "metadata": {
    "colab": {
      "collapsed_sections": [],
      "name": "Predictive_Maintenance_multilabel.ipynb",
      "provenance": []
    },
    "kernelspec": {
      "display_name": "Python 3",
      "name": "python3"
    },
    "language_info": {
      "name": "python"
    }
  },
  "nbformat": 4,
  "nbformat_minor": 0
}